{
 "cells": [
  {
   "cell_type": "markdown",
   "source": [
    "# Results visualization\n",
    "\n",
    "Within Excel, the manual evaluation of the model answers was done by coloring each cell. The colors are extracted in this notebook and stored in a pandas dataframe. The colors are recoded to meaningful names, and the accuracy of the model answers is calculated. The results are visualized in multiple ways."
   ],
   "metadata": {
    "collapsed": false
   },
   "id": "1349be9dee25f634"
  },
  {
   "cell_type": "markdown",
   "source": [
    "### Import libraries"
   ],
   "metadata": {
    "collapsed": false
   },
   "id": "8b493f73ceed7208"
  },
  {
   "cell_type": "code",
   "outputs": [],
   "source": [
    "import pandas as pd\n",
    "import numpy as np\n",
    "import matplotlib.pyplot as plt\n",
    "import seaborn as sns\n",
    "from openpyxl import load_workbook"
   ],
   "metadata": {
    "collapsed": false,
    "ExecuteTime": {
     "end_time": "2024-06-12T12:21:54.031086Z",
     "start_time": "2024-06-12T12:21:53.957425Z"
    }
   },
   "id": "initial_id",
   "execution_count": 1
  },
  {
   "cell_type": "markdown",
   "source": [
    "### Import and load the workbook"
   ],
   "metadata": {
    "collapsed": false
   },
   "id": "65677cef7ad04b5b"
  },
  {
   "metadata": {
    "ExecuteTime": {
     "end_time": "2024-06-12T12:21:55.062485Z",
     "start_time": "2024-06-12T12:21:55.002376Z"
    }
   },
   "cell_type": "code",
   "source": [
    "# import xlsx, decode cell color to new columns\n",
    "path = '../Results/model_answers_manual_eval.xlsx'\n",
    "wb = load_workbook(path, data_only=True)\n",
    "sh = wb['Scoring_eval']"
   ],
   "id": "3c194bb82106ee4",
   "outputs": [],
   "execution_count": 2
  },
  {
   "metadata": {
    "ExecuteTime": {
     "end_time": "2024-06-12T12:21:55.378170Z",
     "start_time": "2024-06-12T12:21:55.375688Z"
    }
   },
   "cell_type": "code",
   "source": [
    "# define function to extract color from each cell of a column, and store in a list\n",
    "def get_colour_list(sheet, column: str, start_row: int, end_row: int) -> list:\n",
    "    return [sheet[f'{column}{i}'].fill.start_color.index for i in range(start_row, end_row + 1)]"
   ],
   "id": "27c613d5485ae7e9",
   "outputs": [],
   "execution_count": 3
  },
  {
   "metadata": {
    "ExecuteTime": {
     "end_time": "2024-06-12T12:21:55.775675Z",
     "start_time": "2024-06-12T12:21:55.765497Z"
    }
   },
   "cell_type": "code",
   "source": [
    "# Use the function to extract the colors of the columns\n",
    "column_labels = {\n",
    "    'F': 'ooo', 'G': 'ooF', 'H': 'oRo', 'I': 'Poo', \n",
    "    'J': 'oRF', 'K': 'PRo', 'L': 'PoF', 'M': 'PRF'\n",
    "}\n",
    "color_lists = {column_labels[col]: get_colour_list(sh, col, 2, 352) for col in column_labels.keys()}"
   ],
   "id": "b88cf38e23fcef34",
   "outputs": [],
   "execution_count": 4
  },
  {
   "metadata": {
    "ExecuteTime": {
     "end_time": "2024-06-12T12:21:56.170055Z",
     "start_time": "2024-06-12T12:21:56.164783Z"
    }
   },
   "cell_type": "code",
   "source": [
    "# Convert lists into a df\n",
    "df_colours = pd.DataFrame(color_lists)"
   ],
   "id": "b4094b418bbd2767",
   "outputs": [],
   "execution_count": 5
  },
  {
   "metadata": {
    "ExecuteTime": {
     "end_time": "2024-06-12T12:21:56.565010Z",
     "start_time": "2024-06-12T12:21:56.562586Z"
    }
   },
   "cell_type": "code",
   "source": [
    "# create dict to recode color codes to meaningful names\n",
    "color_to_meaning = {6: 'correct', # pastel green\n",
    "                    5: 'incorrect', # pastel red\n",
    "                    8: 'correct, not following format', # pastel blue\n",
    "                    9: 'incorrect, but following format', # pastel orange\n",
    "                    '00000000': 'no answer given', # white\n",
    "                    1: 'not enough context for models to answer (external framework score)', # black\n",
    "                    }"
   ],
   "id": "3eab8a9d0bafed79",
   "outputs": [],
   "execution_count": 6
  },
  {
   "metadata": {
    "ExecuteTime": {
     "end_time": "2024-06-12T12:21:57.101095Z",
     "start_time": "2024-06-12T12:21:57.094989Z"
    }
   },
   "cell_type": "code",
   "source": [
    "# recode color codes to meaningful names\n",
    "df_colours = df_colours.replace(color_to_meaning)"
   ],
   "id": "c6750c04a2a4b18c",
   "outputs": [],
   "execution_count": 7
  },
  {
   "metadata": {
    "ExecuteTime": {
     "end_time": "2024-06-12T12:21:57.456315Z",
     "start_time": "2024-06-12T12:21:57.447009Z"
    }
   },
   "cell_type": "code",
   "source": [
    "df_colours"
   ],
   "id": "d8e8354930fdd17a",
   "outputs": [
    {
     "data": {
      "text/plain": "                                 ooo                              ooF  \\\n0                            correct                        incorrect   \n1    incorrect, but following format  incorrect, but following format   \n2    incorrect, but following format                        incorrect   \n3                          incorrect  incorrect, but following format   \n4                          incorrect                        incorrect   \n..                               ...                              ...   \n346                        incorrect                        incorrect   \n347                          correct                        incorrect   \n348                        incorrect                        incorrect   \n349    correct, not following format    correct, not following format   \n350                        incorrect                        incorrect   \n\n                                 oRo                              Poo  \\\n0                          incorrect                          correct   \n1    incorrect, but following format                        incorrect   \n2    incorrect, but following format                        incorrect   \n3                          incorrect  incorrect, but following format   \n4                          incorrect  incorrect, but following format   \n..                               ...                              ...   \n346                          correct                          correct   \n347                        incorrect  incorrect, but following format   \n348                        incorrect                        incorrect   \n349                          correct                          correct   \n350                        incorrect                        incorrect   \n\n                               oRF                              PRo  \\\n0    correct, not following format  incorrect, but following format   \n1                  no answer given                  no answer given   \n2                        incorrect                  no answer given   \n3                        incorrect                  no answer given   \n4                        incorrect  incorrect, but following format   \n..                             ...                              ...   \n346                      incorrect                          correct   \n347  correct, not following format  incorrect, but following format   \n348                      incorrect                  no answer given   \n349  correct, not following format                          correct   \n350                      incorrect                  no answer given   \n\n                                 PoF                              PRF  \n0    incorrect, but following format                        incorrect  \n1                    no answer given  incorrect, but following format  \n2                    no answer given  incorrect, but following format  \n3    incorrect, but following format                  no answer given  \n4    incorrect, but following format                        incorrect  \n..                               ...                              ...  \n346                        incorrect                        incorrect  \n347  incorrect, but following format  incorrect, but following format  \n348                  no answer given                        incorrect  \n349                          correct                          correct  \n350                        incorrect                  no answer given  \n\n[351 rows x 8 columns]",
      "text/html": "<div>\n<style scoped>\n    .dataframe tbody tr th:only-of-type {\n        vertical-align: middle;\n    }\n\n    .dataframe tbody tr th {\n        vertical-align: top;\n    }\n\n    .dataframe thead th {\n        text-align: right;\n    }\n</style>\n<table border=\"1\" class=\"dataframe\">\n  <thead>\n    <tr style=\"text-align: right;\">\n      <th></th>\n      <th>ooo</th>\n      <th>ooF</th>\n      <th>oRo</th>\n      <th>Poo</th>\n      <th>oRF</th>\n      <th>PRo</th>\n      <th>PoF</th>\n      <th>PRF</th>\n    </tr>\n  </thead>\n  <tbody>\n    <tr>\n      <th>0</th>\n      <td>correct</td>\n      <td>incorrect</td>\n      <td>incorrect</td>\n      <td>correct</td>\n      <td>correct, not following format</td>\n      <td>incorrect, but following format</td>\n      <td>incorrect, but following format</td>\n      <td>incorrect</td>\n    </tr>\n    <tr>\n      <th>1</th>\n      <td>incorrect, but following format</td>\n      <td>incorrect, but following format</td>\n      <td>incorrect, but following format</td>\n      <td>incorrect</td>\n      <td>no answer given</td>\n      <td>no answer given</td>\n      <td>no answer given</td>\n      <td>incorrect, but following format</td>\n    </tr>\n    <tr>\n      <th>2</th>\n      <td>incorrect, but following format</td>\n      <td>incorrect</td>\n      <td>incorrect, but following format</td>\n      <td>incorrect</td>\n      <td>incorrect</td>\n      <td>no answer given</td>\n      <td>no answer given</td>\n      <td>incorrect, but following format</td>\n    </tr>\n    <tr>\n      <th>3</th>\n      <td>incorrect</td>\n      <td>incorrect, but following format</td>\n      <td>incorrect</td>\n      <td>incorrect, but following format</td>\n      <td>incorrect</td>\n      <td>no answer given</td>\n      <td>incorrect, but following format</td>\n      <td>no answer given</td>\n    </tr>\n    <tr>\n      <th>4</th>\n      <td>incorrect</td>\n      <td>incorrect</td>\n      <td>incorrect</td>\n      <td>incorrect, but following format</td>\n      <td>incorrect</td>\n      <td>incorrect, but following format</td>\n      <td>incorrect, but following format</td>\n      <td>incorrect</td>\n    </tr>\n    <tr>\n      <th>...</th>\n      <td>...</td>\n      <td>...</td>\n      <td>...</td>\n      <td>...</td>\n      <td>...</td>\n      <td>...</td>\n      <td>...</td>\n      <td>...</td>\n    </tr>\n    <tr>\n      <th>346</th>\n      <td>incorrect</td>\n      <td>incorrect</td>\n      <td>correct</td>\n      <td>correct</td>\n      <td>incorrect</td>\n      <td>correct</td>\n      <td>incorrect</td>\n      <td>incorrect</td>\n    </tr>\n    <tr>\n      <th>347</th>\n      <td>correct</td>\n      <td>incorrect</td>\n      <td>incorrect</td>\n      <td>incorrect, but following format</td>\n      <td>correct, not following format</td>\n      <td>incorrect, but following format</td>\n      <td>incorrect, but following format</td>\n      <td>incorrect, but following format</td>\n    </tr>\n    <tr>\n      <th>348</th>\n      <td>incorrect</td>\n      <td>incorrect</td>\n      <td>incorrect</td>\n      <td>incorrect</td>\n      <td>incorrect</td>\n      <td>no answer given</td>\n      <td>no answer given</td>\n      <td>incorrect</td>\n    </tr>\n    <tr>\n      <th>349</th>\n      <td>correct, not following format</td>\n      <td>correct, not following format</td>\n      <td>correct</td>\n      <td>correct</td>\n      <td>correct, not following format</td>\n      <td>correct</td>\n      <td>correct</td>\n      <td>correct</td>\n    </tr>\n    <tr>\n      <th>350</th>\n      <td>incorrect</td>\n      <td>incorrect</td>\n      <td>incorrect</td>\n      <td>incorrect</td>\n      <td>incorrect</td>\n      <td>no answer given</td>\n      <td>incorrect</td>\n      <td>no answer given</td>\n    </tr>\n  </tbody>\n</table>\n<p>351 rows × 8 columns</p>\n</div>"
     },
     "execution_count": 8,
     "metadata": {},
     "output_type": "execute_result"
    }
   ],
   "execution_count": 8
  },
  {
   "cell_type": "code",
   "outputs": [
    {
     "data": {
      "text/plain": "351"
     },
     "execution_count": 9,
     "metadata": {},
     "output_type": "execute_result"
    }
   ],
   "source": [
    "len(df_colours)"
   ],
   "metadata": {
    "collapsed": false,
    "ExecuteTime": {
     "end_time": "2024-06-12T12:21:57.987492Z",
     "start_time": "2024-06-12T12:21:57.984927Z"
    }
   },
   "id": "ed1d63dd52d22c40",
   "execution_count": 9
  },
  {
   "cell_type": "markdown",
   "source": [
    "### Analysis of the results"
   ],
   "metadata": {
    "collapsed": false
   },
   "id": "5b0577850706de3"
  },
  {
   "cell_type": "markdown",
   "source": [
    "Calculating the accuracy of the model answers"
   ],
   "metadata": {
    "collapsed": false
   },
   "id": "c2cb9e9baf2dc1b9"
  },
  {
   "metadata": {
    "ExecuteTime": {
     "end_time": "2024-06-12T12:21:59.166375Z",
     "start_time": "2024-06-12T12:21:59.160441Z"
    }
   },
   "cell_type": "code",
   "source": [
    "# make table with the value counts of all columns\n",
    "categories = df_colours.apply(pd.Series.value_counts, normalize=True).fillna(0).T"
   ],
   "id": "7f24e1c3c3ddea2e",
   "outputs": [],
   "execution_count": 10
  },
  {
   "metadata": {
    "ExecuteTime": {
     "end_time": "2024-06-12T12:21:59.564054Z",
     "start_time": "2024-06-12T12:21:59.560595Z"
    }
   },
   "cell_type": "code",
   "source": [
    "# entries are correct if they are either 'correct' or 'correct, not following format'. Calculate the accuracy of each column (NOT ENOUGH CONTEXT NOT TAKEN INTO ACCOUNT)\n",
    "categories['accuracy'] = ( categories['correct'] + categories['correct, not following format'] ) / (categories['correct'] + categories['correct, not following format'] + categories['incorrect'] + categories['incorrect, but following format'] + categories['no answer given'] )"
   ],
   "id": "bb2025528508d743",
   "outputs": [],
   "execution_count": 11
  },
  {
   "metadata": {
    "ExecuteTime": {
     "end_time": "2024-06-12T12:22:00.004740Z",
     "start_time": "2024-06-12T12:22:00.000157Z"
    }
   },
   "cell_type": "code",
   "source": [
    "print(categories[['accuracy']])"
   ],
   "id": "bd00e926a217bb66",
   "outputs": [
    {
     "name": "stdout",
     "output_type": "stream",
     "text": [
      "     accuracy\n",
      "ooo  0.216763\n",
      "ooF  0.130058\n",
      "oRo  0.182081\n",
      "Poo  0.277457\n",
      "oRF  0.193642\n",
      "PRo  0.210983\n",
      "PoF  0.289017\n",
      "PRF  0.112717\n"
     ]
    }
   ],
   "execution_count": 12
  },
  {
   "cell_type": "markdown",
   "source": [
    "Visualizing the accuracy of the model answers"
   ],
   "metadata": {
    "collapsed": false
   },
   "id": "bb2f41dac4778052"
  },
  {
   "cell_type": "code",
   "outputs": [
    {
     "data": {
      "text/plain": "<Figure size 1000x500 with 1 Axes>",
      "image/png": "[encoded data removed]"
     },
     "metadata": {},
     "output_type": "display_data"
    }
   ],
   "source": [
    "# plot the accuracy of the model answers\n",
    "plt.figure(figsize=(10, 5))\n",
    "plt.grid(axis='y', color='gray', linestyle='-', linewidth=0.25, alpha=0.5)\n",
    "sns.barplot(x=categories.index, y='accuracy', data=categories)\n",
    "sns.despine()\n",
    "plt.xticks(rotation=45)\n",
    "plt.ylabel('Accuracy (%)')\n",
    "plt.title('Accuracy of the model answers')\n",
    "plt.show()"
   ],
   "metadata": {
    "collapsed": false,
    "ExecuteTime": {
     "end_time": "2024-06-12T12:22:00.814189Z",
     "start_time": "2024-06-12T12:22:00.714989Z"
    }
   },
   "id": "90f91fc94cec7f55",
   "execution_count": 13
  },
  {
   "cell_type": "markdown",
   "source": [
    "Visualizing the distribution of the model answers"
   ],
   "metadata": {
    "collapsed": false
   },
   "id": "52ed391d8acc0882"
  },
  {
   "cell_type": "code",
   "outputs": [],
   "source": [
    "# Custom color mapping for plotting\n",
    "plot_colors = [\n",
    "    \"#A9CBB7\",  # pastel green\n",
    "    \"#C2D4DD\",  # pastel blue\n",
    "    \"#F4B2B0\",  # pastel red\n",
    "    \"#FAD4A5\",  # pastel orange\n",
    "    \"#A9A9A9\",  # dark grey\n",
    "    \"#D3D3D3\"   # light grey\n",
    "]"
   ],
   "metadata": {
    "collapsed": false,
    "ExecuteTime": {
     "end_time": "2024-06-12T12:27:16.427322Z",
     "start_time": "2024-06-12T12:27:16.424264Z"
    }
   },
   "id": "97680c0da3923583",
   "execution_count": 38
  },
  {
   "cell_type": "code",
   "outputs": [
    {
     "data": {
      "text/plain": "<Figure size 1000x500 with 1 Axes>",
      "image/png": "[encoded data removed]"
     },
     "metadata": {},
     "output_type": "display_data"
    }
   ],
   "source": [
    "# plot the distribution of the model answers\n",
    "fig, ax = plt.subplots(figsize=(10, 5))\n",
    "categories.drop(columns='accuracy').plot(kind='bar', stacked=True, color=plot_colors, ax=ax)\n",
    "ax.spines['top'].set_visible(False)\n",
    "ax.spines['right'].set_visible(False)\n",
    "ax.set_title('Manual evaluation of the model answers')\n",
    "ax.set_ylabel('Percentage of answers')\n",
    "ax.set_xlabel('Model configuration')\n",
    "ax.set_ylim(0, 1)\n",
    "plt.legend(loc='upper left', bbox_to_anchor=(0, -0.2), ncol=3)\n",
    "plt.xticks(rotation=45)\n",
    "plt.savefig('manual_eval_soft.png', bbox_inches='tight')\n",
    "plt.show()"
   ],
   "metadata": {
    "collapsed": false,
    "ExecuteTime": {
     "end_time": "2024-06-12T12:27:41.264938Z",
     "start_time": "2024-06-12T12:27:41.018029Z"
    }
   },
   "id": "1351d32607ce7788",
   "execution_count": 40
  },
  {
   "cell_type": "markdown",
   "source": [
    "Heatmap of the model answers"
   ],
   "metadata": {
    "collapsed": false
   },
   "id": "df78675b152f322e"
  },
  {
   "cell_type": "code",
   "outputs": [],
   "source": [
    "# remove rows from df_colour with 'not enough context for models to answer (external framework score)'\n",
    "df_colours2 = df_colours[df_colours['ooo'] != 'not enough context for models to answer (external framework score)']"
   ],
   "metadata": {
    "collapsed": false,
    "ExecuteTime": {
     "end_time": "2024-05-23T13:00:15.069691Z",
     "start_time": "2024-05-23T13:00:15.065918Z"
    }
   },
   "id": "e4e62ff20a5cd8b",
   "execution_count": 70
  },
  {
   "cell_type": "code",
   "outputs": [],
   "source": [
    "category_mapping = {\n",
    "    'correct': 2,\n",
    "    'correct, not following format': 1,\n",
    "    'no answer given': 0,\n",
    "    'incorrect': -1,\n",
    "    'incorrect, but following format': -2,\n",
    "}"
   ],
   "metadata": {
    "collapsed": false,
    "ExecuteTime": {
     "end_time": "2024-05-23T13:00:15.403774Z",
     "start_time": "2024-05-23T13:00:15.400878Z"
    }
   },
   "id": "cf7fabec2efd83da",
   "execution_count": 71
  },
  {
   "cell_type": "code",
   "outputs": [],
   "source": [
    "df_numeric = df_colours2.replace(category_mapping)"
   ],
   "metadata": {
    "collapsed": false,
    "ExecuteTime": {
     "end_time": "2024-05-23T13:00:15.776675Z",
     "start_time": "2024-05-23T13:00:15.772165Z"
    }
   },
   "id": "3b2fc630bf4bf720",
   "execution_count": 72
  },
  {
   "cell_type": "code",
   "outputs": [
    {
     "data": {
      "text/plain": "<Figure size 1000x500 with 2 Axes>",
      "image/png": "[encoded data removed]"
     },
     "metadata": {},
     "output_type": "display_data"
    }
   ],
   "source": [
    "# plot the heatmap of the model answers\n",
    "plt.figure(figsize=(10, 5))\n",
    "sns.heatmap(df_numeric.T, cmap=\"RdYlGn\", cbar_kws={'label': 'Answer quality'})\n",
    "plt.title('Model Performance Heatmap')\n",
    "plt.ylabel('Model settings')\n",
    "plt.xlabel('Questions')\n",
    "plt.show()"
   ],
   "metadata": {
    "collapsed": false,
    "ExecuteTime": {
     "end_time": "2024-05-23T13:00:16.415581Z",
     "start_time": "2024-05-23T13:00:16.148887Z"
    }
   },
   "id": "eccf20111fd04e9",
   "execution_count": 73
  },
  {
   "cell_type": "markdown",
   "source": [
    "Analyzing accuracy and performance of only multiple choice questions"
   ],
   "metadata": {
    "collapsed": false
   },
   "id": "8b3a181752364d07"
  },
  {
   "cell_type": "code",
   "outputs": [],
   "source": [
    "# read column from the original excel sheet (text) \n",
    "multiple_choice = sh['D'][1:352]\n",
    "multiple_choice = [cell.value for cell in multiple_choice]\n",
    "\n",
    "df_colours_MC = df_colours.copy()\n",
    "\n",
    "# add multiple choice column to the df\n",
    "df_colours_MC['multiple_choice'] = multiple_choice\n",
    "# place the multiple choice column at the beginning of the df\n",
    "df_colours_MC = df_colours_MC[['multiple_choice', 'ooo', 'ooF', 'oRo', 'Poo', 'oRF', 'PRo', 'PoF', 'PRF']]\n",
    "# keep only rows with multiple choice questions (start with '0')\n",
    "df_colours_MC = df_colours_MC.loc[df_colours_MC['multiple_choice'].str.startswith('0')]\n",
    "# reset the index and drop the multiple choice column\n",
    "df_colours_MC = df_colours_MC.reset_index(drop=True)"
   ],
   "metadata": {
    "collapsed": false,
    "ExecuteTime": {
     "end_time": "2024-05-23T13:00:31.108561Z",
     "start_time": "2024-05-23T13:00:31.102384Z"
    }
   },
   "id": "6a75a542935783e0",
   "execution_count": 75
  },
  {
   "cell_type": "code",
   "outputs": [],
   "source": [
    "# change cells to only correct or incorrect\n",
    "df_colours_MC = df_colours_MC.replace({'correct, not following format': 'correct', 'incorrect, but following format': 'incorrect', 'no answer given': 'incorrect'})"
   ],
   "metadata": {
    "collapsed": false,
    "ExecuteTime": {
     "end_time": "2024-05-23T13:00:32.337093Z",
     "start_time": "2024-05-23T13:00:32.332466Z"
    }
   },
   "id": "c4f814c355a8f98d",
   "execution_count": 76
  },
  {
   "cell_type": "code",
   "outputs": [],
   "source": [
    "# determine how many multiple choice answer options there are in each question, and recode the multiple choice column to the number of options\n",
    "for i in range(len(df_colours_MC)):\n",
    "    if '4' in df_colours_MC.loc[i, 'multiple_choice']:\n",
    "        df_colours_MC.loc[i, 'multiple_choice'] = 5\n",
    "    elif '3' in df_colours_MC.loc[i, 'multiple_choice']:\n",
    "        df_colours_MC.loc[i, 'multiple_choice'] = 4\n",
    "    elif '2' in df_colours_MC.loc[i, 'multiple_choice']:\n",
    "        df_colours_MC.loc[i, 'multiple_choice'] = 3\n",
    "    elif '1' in df_colours_MC.loc[i, 'multiple_choice']:\n",
    "        df_colours_MC.loc[i, 'multiple_choice'] = 2"
   ],
   "metadata": {
    "collapsed": false,
    "ExecuteTime": {
     "end_time": "2024-05-23T13:00:34.308437Z",
     "start_time": "2024-05-23T13:00:34.292798Z"
    }
   },
   "id": "de774026cbb6b9c4",
   "execution_count": 77
  },
  {
   "cell_type": "code",
   "outputs": [
    {
     "data": {
      "text/plain": "  multiple_choice        ooo        ooF        oRo        Poo        oRF  \\\n0               3    correct  incorrect  incorrect    correct    correct   \n1               4  incorrect  incorrect  incorrect  incorrect  incorrect   \n2               4  incorrect  incorrect  incorrect  incorrect  incorrect   \n3               5  incorrect  incorrect  incorrect  incorrect  incorrect   \n4               3  incorrect    correct  incorrect    correct  incorrect   \n\n         PRo        PoF        PRF  \n0  incorrect  incorrect  incorrect  \n1  incorrect  incorrect  incorrect  \n2  incorrect  incorrect  incorrect  \n3  incorrect  incorrect  incorrect  \n4  incorrect    correct  incorrect  ",
      "text/html": "<div>\n<style scoped>\n    .dataframe tbody tr th:only-of-type {\n        vertical-align: middle;\n    }\n\n    .dataframe tbody tr th {\n        vertical-align: top;\n    }\n\n    .dataframe thead th {\n        text-align: right;\n    }\n</style>\n<table border=\"1\" class=\"dataframe\">\n  <thead>\n    <tr style=\"text-align: right;\">\n      <th></th>\n      <th>multiple_choice</th>\n      <th>ooo</th>\n      <th>ooF</th>\n      <th>oRo</th>\n      <th>Poo</th>\n      <th>oRF</th>\n      <th>PRo</th>\n      <th>PoF</th>\n      <th>PRF</th>\n    </tr>\n  </thead>\n  <tbody>\n    <tr>\n      <th>0</th>\n      <td>3</td>\n      <td>correct</td>\n      <td>incorrect</td>\n      <td>incorrect</td>\n      <td>correct</td>\n      <td>correct</td>\n      <td>incorrect</td>\n      <td>incorrect</td>\n      <td>incorrect</td>\n    </tr>\n    <tr>\n      <th>1</th>\n      <td>4</td>\n      <td>incorrect</td>\n      <td>incorrect</td>\n      <td>incorrect</td>\n      <td>incorrect</td>\n      <td>incorrect</td>\n      <td>incorrect</td>\n      <td>incorrect</td>\n      <td>incorrect</td>\n    </tr>\n    <tr>\n      <th>2</th>\n      <td>4</td>\n      <td>incorrect</td>\n      <td>incorrect</td>\n      <td>incorrect</td>\n      <td>incorrect</td>\n      <td>incorrect</td>\n      <td>incorrect</td>\n      <td>incorrect</td>\n      <td>incorrect</td>\n    </tr>\n    <tr>\n      <th>3</th>\n      <td>5</td>\n      <td>incorrect</td>\n      <td>incorrect</td>\n      <td>incorrect</td>\n      <td>incorrect</td>\n      <td>incorrect</td>\n      <td>incorrect</td>\n      <td>incorrect</td>\n      <td>incorrect</td>\n    </tr>\n    <tr>\n      <th>4</th>\n      <td>3</td>\n      <td>incorrect</td>\n      <td>correct</td>\n      <td>incorrect</td>\n      <td>correct</td>\n      <td>incorrect</td>\n      <td>incorrect</td>\n      <td>correct</td>\n      <td>incorrect</td>\n    </tr>\n  </tbody>\n</table>\n</div>"
     },
     "execution_count": 78,
     "metadata": {},
     "output_type": "execute_result"
    }
   ],
   "source": [
    "df_colours_MC.head()"
   ],
   "metadata": {
    "collapsed": false,
    "ExecuteTime": {
     "end_time": "2024-05-23T13:00:37.541921Z",
     "start_time": "2024-05-23T13:00:37.534373Z"
    }
   },
   "id": "e2744f200e46b323",
   "execution_count": 78
  },
  {
   "cell_type": "code",
   "outputs": [
    {
     "data": {
      "text/plain": "multiple_choice\n3    97\n2    65\n4    31\n5     7\nName: count, dtype: int64"
     },
     "execution_count": 90,
     "metadata": {},
     "output_type": "execute_result"
    }
   ],
   "source": [
    "# count the number of each option in the multiple choice column\n",
    "df_colours_MC['multiple_choice'].value_counts()"
   ],
   "metadata": {
    "collapsed": false,
    "ExecuteTime": {
     "end_time": "2024-05-23T13:26:33.431276Z",
     "start_time": "2024-05-23T13:26:33.427798Z"
    }
   },
   "id": "7dc94346b7fa2f37",
   "execution_count": 90
  },
  {
   "cell_type": "code",
   "outputs": [
    {
     "data": {
      "text/plain": "200"
     },
     "execution_count": 79,
     "metadata": {},
     "output_type": "execute_result"
    }
   ],
   "source": [
    "len(df_colours_MC)"
   ],
   "metadata": {
    "collapsed": false,
    "ExecuteTime": {
     "end_time": "2024-05-23T13:00:43.838308Z",
     "start_time": "2024-05-23T13:00:43.835775Z"
    }
   },
   "id": "447d10bfe562bb6f",
   "execution_count": 79
  },
  {
   "cell_type": "code",
   "outputs": [
    {
     "data": {
      "text/plain": "ooo    0.280\nooF    0.165\noRo    0.220\nPoo    0.455\noRF    0.255\nPRo    0.345\nPoF    0.480\nPRF    0.145\ndtype: float64"
     },
     "execution_count": 89,
     "metadata": {},
     "output_type": "execute_result"
    }
   ],
   "source": [
    "# First calculate model accuracies\n",
    "model_accuracies_MC = df_colours_MC.drop(columns='multiple_choice').apply(lambda x: x[x == 'correct'].count() / x.count())\n",
    "model_accuracies_MC"
   ],
   "metadata": {
    "collapsed": false,
    "ExecuteTime": {
     "end_time": "2024-05-23T13:04:14.826828Z",
     "start_time": "2024-05-23T13:04:14.817630Z"
    }
   },
   "id": "f9e5f03573e4ae66",
   "execution_count": 89
  },
  {
   "cell_type": "code",
   "outputs": [
    {
     "name": "stdout",
     "output_type": "stream",
     "text": [
      "Random accuracy: 0.370\n"
     ]
    }
   ],
   "source": [
    "# random accuracy based on the number of options\n",
    "random_accuracy_map = {2: 0.5, 3: 1/3, 4: 0.25, 5: 0.2}\n",
    "df_colours_MC['random_accuracy'] = df_colours_MC['multiple_choice'].map(random_accuracy_map)\n",
    "# calculate the expected random accuracy\n",
    "expected_random_accuracy = df_colours_MC['random_accuracy'].mean()\n",
    "print(f'Random accuracy: {expected_random_accuracy:.3f}')"
   ],
   "metadata": {
    "collapsed": false,
    "ExecuteTime": {
     "end_time": "2024-05-23T13:03:22.142149Z",
     "start_time": "2024-05-23T13:03:22.136635Z"
    }
   },
   "id": "34339f3a9f40489e",
   "execution_count": 81
  },
  {
   "cell_type": "code",
   "outputs": [
    {
     "data": {
      "text/plain": "<pandas.io.formats.style.Styler at 0x15d53f5b0>",
      "text/html": "<style type=\"text/css\">\n#T_30e75_row3_col2, #T_30e75_row6_col2 {\n  background-color: #77DD77;\n}\n</style>\n<table id=\"T_30e75\">\n  <thead>\n    <tr>\n      <th class=\"blank level0\" >&nbsp;</th>\n      <th id=\"T_30e75_level0_col0\" class=\"col_heading level0 col0\" >Model Accuracy</th>\n      <th id=\"T_30e75_level0_col1\" class=\"col_heading level0 col1\" >Random Chance Accuracy</th>\n      <th id=\"T_30e75_level0_col2\" class=\"col_heading level0 col2\" >Better Than Random</th>\n    </tr>\n  </thead>\n  <tbody>\n    <tr>\n      <th id=\"T_30e75_level0_row0\" class=\"row_heading level0 row0\" >ooo</th>\n      <td id=\"T_30e75_row0_col0\" class=\"data row0 col0\" >0.280</td>\n      <td id=\"T_30e75_row0_col1\" class=\"data row0 col1\" >0.370</td>\n      <td id=\"T_30e75_row0_col2\" class=\"data row0 col2\" >False</td>\n    </tr>\n    <tr>\n      <th id=\"T_30e75_level0_row1\" class=\"row_heading level0 row1\" >ooF</th>\n      <td id=\"T_30e75_row1_col0\" class=\"data row1 col0\" >0.165</td>\n      <td id=\"T_30e75_row1_col1\" class=\"data row1 col1\" >0.370</td>\n      <td id=\"T_30e75_row1_col2\" class=\"data row1 col2\" >False</td>\n    </tr>\n    <tr>\n      <th id=\"T_30e75_level0_row2\" class=\"row_heading level0 row2\" >oRo</th>\n      <td id=\"T_30e75_row2_col0\" class=\"data row2 col0\" >0.220</td>\n      <td id=\"T_30e75_row2_col1\" class=\"data row2 col1\" >0.370</td>\n      <td id=\"T_30e75_row2_col2\" class=\"data row2 col2\" >False</td>\n    </tr>\n    <tr>\n      <th id=\"T_30e75_level0_row3\" class=\"row_heading level0 row3\" >Poo</th>\n      <td id=\"T_30e75_row3_col0\" class=\"data row3 col0\" >0.455</td>\n      <td id=\"T_30e75_row3_col1\" class=\"data row3 col1\" >0.370</td>\n      <td id=\"T_30e75_row3_col2\" class=\"data row3 col2\" >True</td>\n    </tr>\n    <tr>\n      <th id=\"T_30e75_level0_row4\" class=\"row_heading level0 row4\" >oRF</th>\n      <td id=\"T_30e75_row4_col0\" class=\"data row4 col0\" >0.255</td>\n      <td id=\"T_30e75_row4_col1\" class=\"data row4 col1\" >0.370</td>\n      <td id=\"T_30e75_row4_col2\" class=\"data row4 col2\" >False</td>\n    </tr>\n    <tr>\n      <th id=\"T_30e75_level0_row5\" class=\"row_heading level0 row5\" >PRo</th>\n      <td id=\"T_30e75_row5_col0\" class=\"data row5 col0\" >0.345</td>\n      <td id=\"T_30e75_row5_col1\" class=\"data row5 col1\" >0.370</td>\n      <td id=\"T_30e75_row5_col2\" class=\"data row5 col2\" >False</td>\n    </tr>\n    <tr>\n      <th id=\"T_30e75_level0_row6\" class=\"row_heading level0 row6\" >PoF</th>\n      <td id=\"T_30e75_row6_col0\" class=\"data row6 col0\" >0.480</td>\n      <td id=\"T_30e75_row6_col1\" class=\"data row6 col1\" >0.370</td>\n      <td id=\"T_30e75_row6_col2\" class=\"data row6 col2\" >True</td>\n    </tr>\n    <tr>\n      <th id=\"T_30e75_level0_row7\" class=\"row_heading level0 row7\" >PRF</th>\n      <td id=\"T_30e75_row7_col0\" class=\"data row7 col0\" >0.145</td>\n      <td id=\"T_30e75_row7_col1\" class=\"data row7 col1\" >0.370</td>\n      <td id=\"T_30e75_row7_col2\" class=\"data row7 col2\" >False</td>\n    </tr>\n  </tbody>\n</table>\n"
     },
     "execution_count": 82,
     "metadata": {},
     "output_type": "execute_result"
    }
   ],
   "source": [
    "# Compare model accuracies against the expected random accuracy\n",
    "comparison = model_accuracies_MC > expected_random_accuracy\n",
    "\n",
    "# Prepare the results in a DataFrame for nicer display\n",
    "results_df = pd.DataFrame({\n",
    "    'Model Accuracy': model_accuracies_MC,\n",
    "    'Random Chance Accuracy': expected_random_accuracy,\n",
    "    'Better Than Random': comparison\n",
    "})\n",
    "\n",
    "# Define a function for styling\n",
    "def highlight_better_than_random(s):\n",
    "    return ['background-color: #77DD77' if v else '' for v in s]\n",
    "\n",
    "# Apply the styling\n",
    "styled_results = results_df.style.apply(highlight_better_than_random, subset=['Better Than Random'])\n",
    "# only three decimals except 'better than random'\n",
    "styled_results.format(\"{:.3f}\", subset=['Model Accuracy', 'Random Chance Accuracy'])\n",
    "styled_results"
   ],
   "metadata": {
    "collapsed": false,
    "ExecuteTime": {
     "end_time": "2024-05-23T13:03:22.670766Z",
     "start_time": "2024-05-23T13:03:22.620180Z"
    }
   },
   "id": "ab023686821dd7fe",
   "execution_count": 82
  },
  {
   "cell_type": "markdown",
   "source": [
    "Chi-square test to determine if the model accuracies are significantly different from random chance"
   ],
   "metadata": {
    "collapsed": false
   },
   "id": "7d2bb8d14b0bc187"
  },
  {
   "cell_type": "code",
   "outputs": [],
   "source": [
    "from scipy.stats import chi2_contingency"
   ],
   "metadata": {
    "collapsed": false,
    "ExecuteTime": {
     "end_time": "2024-05-23T13:03:23.656884Z",
     "start_time": "2024-05-23T13:03:23.654997Z"
    }
   },
   "id": "464261d20c202f0e",
   "execution_count": 83
  },
  {
   "cell_type": "code",
   "outputs": [],
   "source": [
    "# remove rows with 'not enough context for models to answer (external framework score)'\n",
    "df_colours_MC_chi = df_colours_MC[df_colours_MC['ooo'] != 'not enough context for models to answer (external framework score)'].drop(columns='random_accuracy')"
   ],
   "metadata": {
    "collapsed": false,
    "ExecuteTime": {
     "end_time": "2024-05-23T13:03:24.199954Z",
     "start_time": "2024-05-23T13:03:24.197104Z"
    }
   },
   "id": "ce06f7a1eae79c59",
   "execution_count": 84
  },
  {
   "cell_type": "code",
   "outputs": [
    {
     "data": {
      "text/plain": "           ooo  ooF  oRo  Poo  oRF  PRo  PoF  PRF\nincorrect  139  162  151  104  144  126   99  166\ncorrect     56   33   44   91   51   69   96   29",
      "text/html": "<div>\n<style scoped>\n    .dataframe tbody tr th:only-of-type {\n        vertical-align: middle;\n    }\n\n    .dataframe tbody tr th {\n        vertical-align: top;\n    }\n\n    .dataframe thead th {\n        text-align: right;\n    }\n</style>\n<table border=\"1\" class=\"dataframe\">\n  <thead>\n    <tr style=\"text-align: right;\">\n      <th></th>\n      <th>ooo</th>\n      <th>ooF</th>\n      <th>oRo</th>\n      <th>Poo</th>\n      <th>oRF</th>\n      <th>PRo</th>\n      <th>PoF</th>\n      <th>PRF</th>\n    </tr>\n  </thead>\n  <tbody>\n    <tr>\n      <th>incorrect</th>\n      <td>139</td>\n      <td>162</td>\n      <td>151</td>\n      <td>104</td>\n      <td>144</td>\n      <td>126</td>\n      <td>99</td>\n      <td>166</td>\n    </tr>\n    <tr>\n      <th>correct</th>\n      <td>56</td>\n      <td>33</td>\n      <td>44</td>\n      <td>91</td>\n      <td>51</td>\n      <td>69</td>\n      <td>96</td>\n      <td>29</td>\n    </tr>\n  </tbody>\n</table>\n</div>"
     },
     "execution_count": 85,
     "metadata": {},
     "output_type": "execute_result"
    }
   ],
   "source": [
    "# remove multiple choice column and reset index\n",
    "contingency_table = df_colours_MC_chi.drop(columns='multiple_choice').apply(pd.Series.value_counts).fillna(0)\n",
    "contingency_table"
   ],
   "metadata": {
    "collapsed": false,
    "ExecuteTime": {
     "end_time": "2024-05-23T13:03:24.681304Z",
     "start_time": "2024-05-23T13:03:24.673452Z"
    }
   },
   "id": "68cee9462890c78e",
   "execution_count": 85
  },
  {
   "cell_type": "code",
   "outputs": [],
   "source": [
    "# Perform the chi-square test\n",
    "chi2, p, dof, expected = chi2_contingency(contingency_table)"
   ],
   "metadata": {
    "collapsed": false,
    "ExecuteTime": {
     "end_time": "2024-05-23T13:03:25.162041Z",
     "start_time": "2024-05-23T13:03:25.159301Z"
    }
   },
   "id": "ef7841d45988c4b",
   "execution_count": 86
  },
  {
   "cell_type": "code",
   "outputs": [
    {
     "name": "stdout",
     "output_type": "stream",
     "text": [
      "Chi-square: 106.485\n",
      "p-value: 0.000\n",
      "Degrees of freedom: 7\n",
      "\n",
      "Expected values:\n",
      "\n",
      "                ooo      ooF      oRo      Poo      oRF      PRo      PoF  \\\n",
      "incorrect  136.375  136.375  136.375  136.375  136.375  136.375  136.375   \n",
      "correct     58.625   58.625   58.625   58.625   58.625   58.625   58.625   \n",
      "\n",
      "               PRF  \n",
      "incorrect  136.375  \n",
      "correct     58.625  \n"
     ]
    }
   ],
   "source": [
    "# Display the results\n",
    "print(f'Chi-square: {chi2:.3f}')\n",
    "print(f'p-value: {p:.3f}')\n",
    "print(f'Degrees of freedom: {dof}')\n",
    "\n",
    "print('\\nExpected values:\\n\\n', pd.DataFrame(expected, index=contingency_table.index, columns=contingency_table.columns))"
   ],
   "metadata": {
    "collapsed": false,
    "ExecuteTime": {
     "end_time": "2024-05-23T13:03:25.638961Z",
     "start_time": "2024-05-23T13:03:25.635542Z"
    }
   },
   "id": "7c57fa9fd44c5eda",
   "execution_count": 87
  },
  {
   "cell_type": "markdown",
   "source": [
    "**Chi-Square Test Results Interpretation**\n",
    "- *Chi-Square Statistic: 106.485*\n",
    "This value is quite high, indicating a strong deviation between the observed counts of 'correct' and 'incorrect' answers and what we would expect if there were no association between model settings (ooo, ooF, etc.) and answer correctness.\n",
    "- *P-value: 0.000*\n",
    "A p-value of 0.000 suggests that the differences in model performances are highly significant statistically. In practical terms, this means that there is almost no chance that these differences in model accuracies are occurring due to random variation alone.\n",
    "- *Degrees of Freedom: 7*\n",
    "The degrees of freedom for this test, calculated as (Number of Rows − 1) × (Number of Columns − 1), indicate that there are sufficient data points to validate the reliability of the test results."
   ],
   "metadata": {
    "collapsed": false
   },
   "id": "4ecb1924f275c054"
  },
  {
   "cell_type": "markdown",
   "source": [
    "Model performance by number of answer options (still MC)"
   ],
   "metadata": {
    "collapsed": false
   },
   "id": "158d43391c840466"
  },
  {
   "cell_type": "code",
   "outputs": [
    {
     "data": {
      "text/plain": "                      ooo       ooF       oRo       Poo       oRF       PRo  \\\nmultiple_choice                                                               \n2                0.400000  0.200000  0.323077  0.461538  0.369231  0.307692   \n3                0.278351  0.164948  0.206186  0.494845  0.257732  0.360825   \n4                0.032258  0.096774  0.064516  0.322581  0.064516  0.354839   \n5                0.285714  0.142857  0.142857  0.428571  0.000000  0.428571   \n\n                      PoF       PRF  \nmultiple_choice                      \n2                0.476923  0.246154  \n3                0.463918  0.123711  \n4                0.548387  0.000000  \n5                0.428571  0.142857  ",
      "text/html": "<div>\n<style scoped>\n    .dataframe tbody tr th:only-of-type {\n        vertical-align: middle;\n    }\n\n    .dataframe tbody tr th {\n        vertical-align: top;\n    }\n\n    .dataframe thead th {\n        text-align: right;\n    }\n</style>\n<table border=\"1\" class=\"dataframe\">\n  <thead>\n    <tr style=\"text-align: right;\">\n      <th></th>\n      <th>ooo</th>\n      <th>ooF</th>\n      <th>oRo</th>\n      <th>Poo</th>\n      <th>oRF</th>\n      <th>PRo</th>\n      <th>PoF</th>\n      <th>PRF</th>\n    </tr>\n    <tr>\n      <th>multiple_choice</th>\n      <th></th>\n      <th></th>\n      <th></th>\n      <th></th>\n      <th></th>\n      <th></th>\n      <th></th>\n      <th></th>\n    </tr>\n  </thead>\n  <tbody>\n    <tr>\n      <th>2</th>\n      <td>0.400000</td>\n      <td>0.200000</td>\n      <td>0.323077</td>\n      <td>0.461538</td>\n      <td>0.369231</td>\n      <td>0.307692</td>\n      <td>0.476923</td>\n      <td>0.246154</td>\n    </tr>\n    <tr>\n      <th>3</th>\n      <td>0.278351</td>\n      <td>0.164948</td>\n      <td>0.206186</td>\n      <td>0.494845</td>\n      <td>0.257732</td>\n      <td>0.360825</td>\n      <td>0.463918</td>\n      <td>0.123711</td>\n    </tr>\n    <tr>\n      <th>4</th>\n      <td>0.032258</td>\n      <td>0.096774</td>\n      <td>0.064516</td>\n      <td>0.322581</td>\n      <td>0.064516</td>\n      <td>0.354839</td>\n      <td>0.548387</td>\n      <td>0.000000</td>\n    </tr>\n    <tr>\n      <th>5</th>\n      <td>0.285714</td>\n      <td>0.142857</td>\n      <td>0.142857</td>\n      <td>0.428571</td>\n      <td>0.000000</td>\n      <td>0.428571</td>\n      <td>0.428571</td>\n      <td>0.142857</td>\n    </tr>\n  </tbody>\n</table>\n</div>"
     },
     "execution_count": 88,
     "metadata": {},
     "output_type": "execute_result"
    }
   ],
   "source": [
    "# drop random_accuracy column\n",
    "df_colours_MC = df_colours_MC.drop(columns='random_accuracy')\n",
    "\n",
    "# Convert 'correct'/'incorrect' to 1/0 for easier calculation\n",
    "df_numeric = df_colours_MC.drop(columns='multiple_choice').applymap(lambda x: 1 if x == 'correct' else 0)\n",
    "\n",
    "# Add the 'multiple_choice' column back for grouping\n",
    "df_numeric['multiple_choice'] = df_colours_MC['multiple_choice']\n",
    "\n",
    "# Calculate accuracy per number of options for each model\n",
    "accuracy_per_option = df_numeric.groupby('multiple_choice').mean()\n",
    "\n",
    "# Display the results\n",
    "accuracy_per_option"
   ],
   "metadata": {
    "collapsed": false,
    "ExecuteTime": {
     "end_time": "2024-05-23T13:03:27.073424Z",
     "start_time": "2024-05-23T13:03:27.057830Z"
    }
   },
   "id": "404a8f747d612bdd",
   "execution_count": 88
  },
  {
   "cell_type": "code",
   "outputs": [],
   "source": [],
   "metadata": {
    "collapsed": false
   },
   "id": "62f149b143213ffb"
  }
 ],
 "metadata": {
  "kernelspec": {
   "display_name": "Python 3",
   "language": "python",
   "name": "python3"
  },
  "language_info": {
   "codemirror_mode": {
    "name": "ipython",
    "version": 2
   },
   "file_extension": ".py",
   "mimetype": "text/x-python",
   "name": "python",
   "nbconvert_exporter": "python",
   "pygments_lexer": "ipython2",
   "version": "2.7.6"
  }
 },
 "nbformat": 4,
 "nbformat_minor": 5
}
