{
 "cells": [
  {
   "cell_type": "markdown",
   "source": [
    "# Scraping Open Data Documents from Rijksoverheid\n",
    "\n",
    "This notebook scrapes and processes ICT-related documents from the Dutch government's open data portal. Information on how to access these documents is available on the website of [Rijksoverheid (the Dutch Government website](https://www.rijksoverheid.nl/opendata/documenten). The goal is to compile a dataset of these documents, including their metadata and content, into a CSV file."
   ],
   "metadata": {
    "collapsed": false
   },
   "id": "d51a5868adb45f97"
  },
  {
   "cell_type": "markdown",
   "source": [
    "### Importing libraries"
   ],
   "metadata": {
    "collapsed": false
   },
   "id": "cce2195538db8185"
  },
  {
   "cell_type": "code",
   "outputs": [],
   "source": [
    "import requests\n",
    "from bs4 import BeautifulSoup\n",
    "import pandas as pd\n",
    "import xml.etree.ElementTree as ET\n",
    "from tqdm import tqdm\n",
    "import fitz  # Import PyMuPDF\n",
    "import os\n",
    "import io\n",
    "from pathlib import Path"
   ],
   "metadata": {
    "collapsed": false,
    "ExecuteTime": {
     "end_time": "2024-04-02T09:51:57.133113Z",
     "start_time": "2024-04-02T09:51:56.463404Z"
    }
   },
   "id": "11c92264adb72b81",
   "execution_count": 1
  },
  {
   "cell_type": "markdown",
   "source": [
    "### Fetching the list of documents"
   ],
   "metadata": {
    "collapsed": false
   },
   "id": "82c5e862417e5750"
  },
  {
   "cell_type": "code",
   "outputs": [],
   "source": [
    "# create directory\n",
    "Path(\"../Data/Rijksoverheid\").mkdir(parents=True, exist_ok=True)"
   ],
   "metadata": {
    "collapsed": false,
    "ExecuteTime": {
     "end_time": "2024-04-02T09:51:57.137121Z",
     "start_time": "2024-04-02T09:51:57.134450Z"
    }
   },
   "id": "818545cd410a6b67",
   "execution_count": 2
  },
  {
   "cell_type": "code",
   "outputs": [],
   "source": [
    "# Function to fetch documents\n",
    "def fetch_documents(subject, initial_date, offset, rows):\n",
    "    \"\"\"\n",
    "    Fetches documents from the Rijksoverheid API based on the specified parameters.\n",
    "    :param subject: the subject of the documents to fetch\n",
    "    :param initial_date: the initial date from which to fetch documents\n",
    "    :param offset: the offset to start fetching documents from\n",
    "    :param rows: the number of rows to fetch\n",
    "    :return: the XML response text if successful, None otherwise\n",
    "    \"\"\"\n",
    "    base_url = \"https://opendata.rijksoverheid.nl/v1/documents\"\n",
    "    params = {\n",
    "        \"subject\": subject,\n",
    "        \"initialdatesince\": initial_date,\n",
    "        \"offset\": offset,\n",
    "        \"rows\": rows\n",
    "    }\n",
    "    response = requests.get(base_url, params=params)\n",
    "    if response.status_code == 200:\n",
    "        return response.text\n",
    "    else:\n",
    "        return None"
   ],
   "metadata": {
    "collapsed": false,
    "ExecuteTime": {
     "end_time": "2024-04-02T09:51:57.142209Z",
     "start_time": "2024-04-02T09:51:57.138232Z"
    }
   },
   "id": "fb440617e7e0d3a2",
   "execution_count": 3
  },
  {
   "cell_type": "markdown",
   "source": [
    "### Parsing the XML response"
   ],
   "metadata": {
    "collapsed": false
   },
   "id": "3984f359709048af"
  },
  {
   "cell_type": "code",
   "outputs": [],
   "source": [
    "# Function to parse XML and extract document metadata\n",
    "def parse_xml(xml_data):\n",
    "    \"\"\"\n",
    "    Parses the XML data and extracts the metadata for each document.\n",
    "    :param xml_data: XML data to parse\n",
    "    :return: a list of dictionaries containing the metadata for each document\n",
    "    \"\"\"\n",
    "    documents = []\n",
    "    root = ET.fromstring(xml_data)\n",
    "    for doc in root.findall('document'):\n",
    "        metadata = {\n",
    "            \"id\": doc.find('id').text,\n",
    "            \"type\": doc.find('type').text,\n",
    "            \"title\": doc.find('title').text,\n",
    "            \"canonical\": doc.find('canonical').text,\n",
    "            \"introduction\": \"\",\n",
    "            \"lastmodified\": doc.find('lastmodified').text,\n",
    "            \"available\": doc.find('available').text,\n",
    "            \"initialdate\": doc.find('initialdate').text,\n",
    "        }\n",
    "        \n",
    "        # Handling introduction extraction within <p> tags\n",
    "        intro_html = doc.find('introduction').text\n",
    "        if intro_html is not None:\n",
    "            intro_soup = BeautifulSoup(intro_html, 'html.parser')\n",
    "            paragraphs = [p.get_text() for p in intro_soup.find_all('p')]\n",
    "            metadata['introduction'] = \" \".join(paragraphs).strip()\n",
    "        \n",
    "        documents.append(metadata)\n",
    "    return documents"
   ],
   "metadata": {
    "collapsed": false,
    "ExecuteTime": {
     "end_time": "2024-04-02T09:51:57.150120Z",
     "start_time": "2024-04-02T09:51:57.143951Z"
    }
   },
   "id": "3f9662d4b6183813",
   "execution_count": 4
  },
  {
   "cell_type": "markdown",
   "source": [
    "### Downloading and extracting text from the PDFs"
   ],
   "metadata": {
    "collapsed": false
   },
   "id": "eb0f6804937139de"
  },
  {
   "cell_type": "code",
   "outputs": [],
   "source": [
    "def download_pdf(url):\n",
    "    \"\"\"\n",
    "    Downloads a PDF file from the specified URL and returns the path to the downloaded file.\n",
    "    :param url: the URL of the PDF file to download\n",
    "    :return: the path to the downloaded PDF file if successful, None otherwise\n",
    "    \"\"\"\n",
    "    # Temporary file path\n",
    "    temp_file_path = \"../Data/Rijksoverheid/temp.pdf\"\n",
    "    try:\n",
    "        # Make a request to the PDF URL\n",
    "        response = requests.get(url)\n",
    "        response.raise_for_status()\n",
    "        \n",
    "        # Save the pdf to a temporary file\n",
    "        with open(temp_file_path, 'wb') as temp_pdf:\n",
    "            temp_pdf.write(response.content)\n",
    "            return temp_file_path\n",
    "    except Exception as e:\n",
    "        return None"
   ],
   "metadata": {
    "collapsed": false,
    "ExecuteTime": {
     "end_time": "2024-04-02T09:51:57.155220Z",
     "start_time": "2024-04-02T09:51:57.151237Z"
    }
   },
   "id": "1a7988e8bb9bc15a",
   "execution_count": 5
  },
  {
   "cell_type": "code",
   "outputs": [],
   "source": [
    "# Function to download PDF and extract text\n",
    "def extract_text_from_pdf(pdf_path, url):\n",
    "    \"\"\"\n",
    "    Extracts text from a PDF.\n",
    "    :param pdf_path: the path to the PDF file\n",
    "    :param url: the URL of the PDF file for debugging purposes\n",
    "    :return: the extracted text from the PDF\n",
    "    \"\"\"\n",
    "    text = \"\"\n",
    "    try:\n",
    "        # Attempt to open and read the PDF\n",
    "        with fitz.open(pdf_path) as doc:\n",
    "            for page in doc:    \n",
    "                text += page.get_text()\n",
    "            \n",
    "            text = clean_text(text)            \n",
    "                \n",
    "    except Exception as e:\n",
    "        print(f\"An error occurred while extracting text from url {url}: {e}\")\n",
    "        text = \"\"\n",
    "    \n",
    "    # Ensure the temporary PDF file is deleted\n",
    "    if os.path.exists(pdf_path):\n",
    "        os.remove(pdf_path)\n",
    "        \n",
    "    return text"
   ],
   "metadata": {
    "collapsed": false,
    "ExecuteTime": {
     "end_time": "2024-04-02T09:51:57.161118Z",
     "start_time": "2024-04-02T09:51:57.156485Z"
    }
   },
   "id": "34010531d04cc11f",
   "execution_count": 6
  },
  {
   "cell_type": "code",
   "outputs": [],
   "source": [
    "def clean_text(text):\n",
    "    \"\"\"\n",
    "    Cleans the extracted text from a PDF. Removes newlines, carriage returns, and tabs. Attempts to find the start of the content by searching for the words 'aanleiding' or 'geacht'.\n",
    "    :param text: the raw extracted text from the PDF\n",
    "    :return: the cleaned text from the PDF\n",
    "    \"\"\"\n",
    "    # Strip the text of newlines, carriage returns, and tabs\n",
    "    text = text.replace('\\n', ' ').replace('\\r', ' ').replace('\\t', ' ').strip()\n",
    "    \n",
    "    # Find start index of the words 'aanleiding' and 'geacht'\n",
    "    start_idx1 = text.find('Aanleiding')\n",
    "    start_idx2 = text.find('Geacht')\n",
    "    \n",
    "    # Adjust handling to account for cases where either keyword may not be found\n",
    "    start_indices = [i for i in [start_idx1, start_idx2] if i != -1]\n",
    "    # If at least one valid index is found and not larger than 1000\n",
    "    if start_indices and min(start_indices) < 1000:\n",
    "        start_idx = min(start_indices)\n",
    "        text = text[start_idx:]\n",
    "    else: # If no valid start index found, use a default start position\n",
    "        text = text[70:]\n",
    "        \n",
    "    return text"
   ],
   "metadata": {
    "collapsed": false,
    "ExecuteTime": {
     "end_time": "2024-04-02T09:51:57.166908Z",
     "start_time": "2024-04-02T09:51:57.162260Z"
    }
   },
   "id": "96a0005a08cbabaa",
   "execution_count": 7
  },
  {
   "cell_type": "markdown",
   "source": [
    "### Scraping the content"
   ],
   "metadata": {
    "collapsed": false
   },
   "id": "f6571e5fe4899103"
  },
  {
   "cell_type": "code",
   "outputs": [],
   "source": [
    "# Updated scrape_content function to handle PDF content\n",
    "def scrape_content(url):\n",
    "    \"\"\"\n",
    "    Scrapes the content from the URL. Often the content is in a PDF file, so we attempt to download and extract the text from the PDF.\n",
    "    :param url: the URL to scrape content from\n",
    "    :return: the scraped content if successful, an empty string otherwise\n",
    "    \"\"\"\n",
    "    response = requests.get(url)\n",
    "    if response.status_code == 200:\n",
    "        soup = BeautifulSoup(response.text, 'html.parser')\n",
    "        intro_div = soup.find('div', class_='intro')\n",
    "        # Try to find a PDF link in the introduction div, else get all <p> tags\n",
    "        if intro_div:\n",
    "            pdf_link = intro_div.find('a', href=True)['href'] if intro_div.find('a', href=True) else None\n",
    "            if pdf_link:\n",
    "                pdf_path = download_pdf(pdf_link)\n",
    "                if pdf_path:\n",
    "                    text = extract_text_from_pdf(pdf_path, url)\n",
    "                    return text\n",
    "        # If no PDF is found or extraction failed, get all <p> tags\n",
    "        text = []\n",
    "        for element in soup.find_all(['p', 'h1', 'h2', 'h3', 'h4', 'h5', 'h6', 'li']):\n",
    "            text.append(element.get_text(strip=True))\n",
    "        text = \" \".join(text).strip()\n",
    "        return text\n",
    "            \n",
    "    return \"\""
   ],
   "metadata": {
    "collapsed": false,
    "ExecuteTime": {
     "end_time": "2024-04-02T09:51:57.173175Z",
     "start_time": "2024-04-02T09:51:57.167821Z"
    }
   },
   "id": "89a3f35acf1ec449",
   "execution_count": 8
  },
  {
   "cell_type": "markdown",
   "source": [
    "### Fetching and processing documents"
   ],
   "metadata": {
    "collapsed": false
   },
   "id": "277b5bafdf09032f"
  },
  {
   "cell_type": "code",
   "outputs": [],
   "source": [
    "# Adjusted main function to skip certain document types\n",
    "def fetch_and_save_documents(subject, initial_date, csv_file_path):\n",
    "    \"\"\"\n",
    "    Fetches and processes documents from the Rijksoverheid API based on the specified parameters and saves them to a CSV file.\n",
    "    :param subject: the subject of the documents to fetch (see https://www.rijksoverheid.nl/opendata/documenten)\n",
    "    :param initial_date: the initial date from which to fetch documents (format: YYYYMMDD)\n",
    "    :param csv_file_path: the path to save the CSV file\n",
    "    :return: None\n",
    "    \"\"\"\n",
    "    offset = 1\n",
    "    rows = 200\n",
    "    file_exists = os.path.exists(csv_file_path)\n",
    "    \n",
    "    while True:\n",
    "        xml_data = fetch_documents(subject, initial_date, offset, rows)\n",
    "        if xml_data:\n",
    "            documents = parse_xml(xml_data)\n",
    "            if not documents:\n",
    "                break\n",
    "            batch_documents = []\n",
    "            for doc in tqdm(documents, desc=f\"Processing documents {offset} to {offset + len(documents) - 1}\"):\n",
    "                doc['content'] = scrape_content(doc['canonical'])\n",
    "                batch_documents.append(doc)\n",
    "                \n",
    "            # Convert the batch documents to a DataFrame\n",
    "            batch_df = pd.DataFrame(batch_documents)\n",
    "            # Append to the CSV file\n",
    "            if not file_exists:\n",
    "                batch_df.to_csv(csv_file_path, mode='w', header=True, index=False)\n",
    "                file_exists = True # Ensure header is written only once\n",
    "            else:\n",
    "                batch_df.to_csv(csv_file_path, mode='a', header=False, index=False)\n",
    "            \n",
    "            offset += rows\n",
    "        else:\n",
    "            break\n",
    "    print(\"All documents processed and saved to CSV file.\")"
   ],
   "metadata": {
    "collapsed": false,
    "ExecuteTime": {
     "end_time": "2024-04-02T09:51:57.182942Z",
     "start_time": "2024-04-02T09:51:57.174453Z"
    }
   },
   "id": "140e4b0c1af91ef7",
   "execution_count": 9
  },
  {
   "cell_type": "markdown",
   "source": [
    "### Unleashing the scraper"
   ],
   "metadata": {
    "collapsed": false
   },
   "id": "7894f3391aa2c470"
  },
  {
   "cell_type": "code",
   "outputs": [
    {
     "name": "stderr",
     "output_type": "stream",
     "text": [
      "Processing documents 1 to 200:  97%|█████████▋| 194/200 [03:02<00:04,  1.46it/s]"
     ]
    },
    {
     "name": "stdout",
     "output_type": "stream",
     "text": [
      "An error occurred while extracting text from url https://www.rijksoverheid.nl/documenten/beleidsnotas/2022/11/11/beslisnota-bij-antwoorden-kamervragen-over-toegang-tik-tok-medewerkers-tot-data-europese-gebruikers: Failed to open file '../Data/Rijksoverheid/temp.pdf'.\n"
     ]
    },
    {
     "name": "stderr",
     "output_type": "stream",
     "text": [
      "Processing documents 1 to 200: 100%|██████████| 200/200 [03:06<00:00,  1.07it/s]\n",
      "Processing documents 201 to 400:   4%|▍         | 9/200 [00:09<02:23,  1.33it/s]"
     ]
    },
    {
     "name": "stdout",
     "output_type": "stream",
     "text": [
      "An error occurred while extracting text from url https://www.rijksoverheid.nl/documenten/kamerstukken/2022/11/24/tk-advies-van-het-adviescollege-ict-toetsing-over-het-beslag-informatie-systeem: Failed to open file '../Data/Rijksoverheid/temp.pdf'.\n"
     ]
    },
    {
     "name": "stderr",
     "output_type": "stream",
     "text": [
      "Processing documents 201 to 400: 100%|██████████| 200/200 [03:57<00:00,  1.19s/it]\n",
      "Processing documents 401 to 427: 100%|██████████| 27/27 [00:16<00:00,  1.66it/s]\n"
     ]
    },
    {
     "name": "stdout",
     "output_type": "stream",
     "text": [
      "All documents processed and saved to CSV file.\n"
     ]
    }
   ],
   "source": [
    "csv_file_path = '../Data/Rijksoverheid/documents_ict_20200101.csv'\n",
    "fetch_and_save_documents('ict', '20200101', csv_file_path)"
   ],
   "metadata": {
    "collapsed": false,
    "ExecuteTime": {
     "end_time": "2024-04-02T09:59:29.986190Z",
     "start_time": "2024-04-02T09:51:57.185516Z"
    }
   },
   "id": "a7429671f543eb02",
   "execution_count": 10
  },
  {
   "cell_type": "code",
   "outputs": [
    {
     "data": {
      "text/plain": "                                     id       type  \\\n0  67ffb596-fe03-4c41-88f3-69bc783243f3  kamerstuk   \n1  b1caa73e-1fba-43dc-8d8d-5d40c98f0c2e  kamerstuk   \n2  0dc59efa-9714-4d42-9fb7-4b6444c2cc70  kamerstuk   \n3  853678f5-b676-4572-b189-3be188961774  kamerstuk   \n4  00324347-7075-46bb-8b1a-8df05ea83ba4  kamerstuk   \n\n                                               title  \\\n0   Kamerbrief over cyberveiligheid in het onderwijs   \n1  Beantwoording Kamervragen over het bericht ‘Ha...   \n2               Kamerbrief over doorlichting SSC-ICT   \n3  Kamerbrief over doorontwikkeling Rijks ICT-das...   \n4  Beantwoording Kamervragen over zorgwekkende si...   \n\n                                           canonical  \\\n0  https://www.rijksoverheid.nl/documenten/kamers...   \n1  https://www.rijksoverheid.nl/documenten/kamers...   \n2  https://www.rijksoverheid.nl/documenten/kamers...   \n3  https://www.rijksoverheid.nl/documenten/kamers...   \n4  https://www.rijksoverheid.nl/documenten/kamers...   \n\n                                        introduction  \\\n0  Minister Van Engelshoven informeert de Tweede ...   \n1  Minister Bruins beantwoordt vragen over het be...   \n2  Minister Knops (BZK) stuurt de Tweede Kamer he...   \n3  Minister Knops (BZK) informeert de Tweede Kame...   \n4  Minister Knops beantwoordt vragen over de zorg...   \n\n               lastmodified                 available  \\\n0  2022-04-12T09:35:57.748Z  2020-02-14T18:26:00.000Z   \n1  2022-08-31T09:05:54.038Z  2020-02-21T15:55:00.000Z   \n2  2022-04-04T08:30:53.086Z  2020-03-02T12:59:00.000Z   \n3  2022-08-17T08:31:27.904Z  2020-03-04T14:02:00.000Z   \n4  2022-08-12T08:03:54.964Z  2020-03-06T15:31:00.000Z   \n\n                     initialdate  \\\n0  2020-02-14T01:00:00.000+01:00   \n1  2020-02-21T00:00:00.000+01:00   \n2  2020-03-02T00:00:00.000+01:00   \n3  2020-03-04T00:00:00.000+01:00   \n4  2020-03-06T00:00:00.000+01:00   \n\n                                             content  \n0  13                        Op 23 december 2019 ...  \n1  Geachte voorzitter,    Hierbij zend ik u, mede...  \n2  0018  2500 EA  DEN HAAG        Datum   2 maart...  \n3  18 2500 AE  Den Haag Datum 4 maart 2020 Betref...  \n4  18 2500 EA  Den Haag Datum 6 maart 2020 Betref...  ",
      "text/html": "<div>\n<style scoped>\n    .dataframe tbody tr th:only-of-type {\n        vertical-align: middle;\n    }\n\n    .dataframe tbody tr th {\n        vertical-align: top;\n    }\n\n    .dataframe thead th {\n        text-align: right;\n    }\n</style>\n<table border=\"1\" class=\"dataframe\">\n  <thead>\n    <tr style=\"text-align: right;\">\n      <th></th>\n      <th>id</th>\n      <th>type</th>\n      <th>title</th>\n      <th>canonical</th>\n      <th>introduction</th>\n      <th>lastmodified</th>\n      <th>available</th>\n      <th>initialdate</th>\n      <th>content</th>\n    </tr>\n  </thead>\n  <tbody>\n    <tr>\n      <th>0</th>\n      <td>67ffb596-fe03-4c41-88f3-69bc783243f3</td>\n      <td>kamerstuk</td>\n      <td>Kamerbrief over cyberveiligheid in het onderwijs</td>\n      <td>https://www.rijksoverheid.nl/documenten/kamers...</td>\n      <td>Minister Van Engelshoven informeert de Tweede ...</td>\n      <td>2022-04-12T09:35:57.748Z</td>\n      <td>2020-02-14T18:26:00.000Z</td>\n      <td>2020-02-14T01:00:00.000+01:00</td>\n      <td>13                        Op 23 december 2019 ...</td>\n    </tr>\n    <tr>\n      <th>1</th>\n      <td>b1caa73e-1fba-43dc-8d8d-5d40c98f0c2e</td>\n      <td>kamerstuk</td>\n      <td>Beantwoording Kamervragen over het bericht ‘Ha...</td>\n      <td>https://www.rijksoverheid.nl/documenten/kamers...</td>\n      <td>Minister Bruins beantwoordt vragen over het be...</td>\n      <td>2022-08-31T09:05:54.038Z</td>\n      <td>2020-02-21T15:55:00.000Z</td>\n      <td>2020-02-21T00:00:00.000+01:00</td>\n      <td>Geachte voorzitter,    Hierbij zend ik u, mede...</td>\n    </tr>\n    <tr>\n      <th>2</th>\n      <td>0dc59efa-9714-4d42-9fb7-4b6444c2cc70</td>\n      <td>kamerstuk</td>\n      <td>Kamerbrief over doorlichting SSC-ICT</td>\n      <td>https://www.rijksoverheid.nl/documenten/kamers...</td>\n      <td>Minister Knops (BZK) stuurt de Tweede Kamer he...</td>\n      <td>2022-04-04T08:30:53.086Z</td>\n      <td>2020-03-02T12:59:00.000Z</td>\n      <td>2020-03-02T00:00:00.000+01:00</td>\n      <td>0018  2500 EA  DEN HAAG        Datum   2 maart...</td>\n    </tr>\n    <tr>\n      <th>3</th>\n      <td>853678f5-b676-4572-b189-3be188961774</td>\n      <td>kamerstuk</td>\n      <td>Kamerbrief over doorontwikkeling Rijks ICT-das...</td>\n      <td>https://www.rijksoverheid.nl/documenten/kamers...</td>\n      <td>Minister Knops (BZK) informeert de Tweede Kame...</td>\n      <td>2022-08-17T08:31:27.904Z</td>\n      <td>2020-03-04T14:02:00.000Z</td>\n      <td>2020-03-04T00:00:00.000+01:00</td>\n      <td>18 2500 AE  Den Haag Datum 4 maart 2020 Betref...</td>\n    </tr>\n    <tr>\n      <th>4</th>\n      <td>00324347-7075-46bb-8b1a-8df05ea83ba4</td>\n      <td>kamerstuk</td>\n      <td>Beantwoording Kamervragen over zorgwekkende si...</td>\n      <td>https://www.rijksoverheid.nl/documenten/kamers...</td>\n      <td>Minister Knops beantwoordt vragen over de zorg...</td>\n      <td>2022-08-12T08:03:54.964Z</td>\n      <td>2020-03-06T15:31:00.000Z</td>\n      <td>2020-03-06T00:00:00.000+01:00</td>\n      <td>18 2500 EA  Den Haag Datum 6 maart 2020 Betref...</td>\n    </tr>\n  </tbody>\n</table>\n</div>"
     },
     "execution_count": 11,
     "metadata": {},
     "output_type": "execute_result"
    }
   ],
   "source": [
    "# check the first few rows of the dataset\n",
    "df = pd.read_csv('../Data/Rijksoverheid/documents_ict_20200101.csv')\n",
    "df.head()"
   ],
   "metadata": {
    "collapsed": false,
    "ExecuteTime": {
     "end_time": "2024-04-02T09:59:30.133964Z",
     "start_time": "2024-04-02T09:59:29.987320Z"
    }
   },
   "id": "cd2805823c5e2a69",
   "execution_count": 11
  },
  {
   "cell_type": "code",
   "outputs": [
    {
     "name": "stdout",
     "output_type": "stream",
     "text": [
      "<class 'pandas.core.frame.DataFrame'>\n",
      "RangeIndex: 427 entries, 0 to 426\n",
      "Data columns (total 9 columns):\n",
      " #   Column        Non-Null Count  Dtype \n",
      "---  ------        --------------  ----- \n",
      " 0   id            427 non-null    object\n",
      " 1   type          427 non-null    object\n",
      " 2   title         427 non-null    object\n",
      " 3   canonical     427 non-null    object\n",
      " 4   introduction  427 non-null    object\n",
      " 5   lastmodified  427 non-null    object\n",
      " 6   available     427 non-null    object\n",
      " 7   initialdate   427 non-null    object\n",
      " 8   content       422 non-null    object\n",
      "dtypes: object(9)\n",
      "memory usage: 30.2+ KB\n"
     ]
    }
   ],
   "source": [
    "df.info()"
   ],
   "metadata": {
    "collapsed": false,
    "ExecuteTime": {
     "end_time": "2024-04-02T09:59:30.144298Z",
     "start_time": "2024-04-02T09:59:30.135004Z"
    }
   },
   "id": "7bdf2bb50d3aadd",
   "execution_count": 12
  },
  {
   "cell_type": "code",
   "outputs": [
    {
     "data": {
      "text/plain": "                                       id         type  \\\n167  031c9ba6-b36f-444f-a683-9a2d134a8021  beleidsnota   \n193  c9a0943e-a057-4db2-bf52-a2f1ac8969d1  beleidsnota   \n205  12741548-91f5-4f41-b0cc-d380bf4125b1      rapport   \n208  e8c135f0-bade-4272-bdfe-1cfef4532e89    kamerstuk   \n335  c69b41f5-8fdd-4409-8d00-8b2827a059f8  beleidsnota   \n\n                                                 title  \\\n167  Beslisnota bij antwoorden op Kamervragen over ...   \n193  Beslisnota bij antwoorden Kamervragen over toe...   \n205         Convenant waarborging .nl-domein 2022-2029   \n208  Kamerbrief over advies van het Adviescollege I...   \n335  Beslisnota bij Kamerbrief over planning en voo...   \n\n                                             canonical  \\\n167  https://www.rijksoverheid.nl/documenten/beleid...   \n193  https://www.rijksoverheid.nl/documenten/beleid...   \n205  https://www.rijksoverheid.nl/documenten/rappor...   \n208  https://www.rijksoverheid.nl/documenten/kamers...   \n335  https://www.rijksoverheid.nl/documenten/beleid...   \n\n                                          introduction  \\\n167  In een beslisnota staat achtergrondinformatie ...   \n193  In een beslisnota staat achtergrondinformatie ...   \n205  Het convenant tussen EZK en de Stichting Inter...   \n208  Minister Yeşilgöz-Zegerius (JenV) stuurt de Tw...   \n335  In een beslisnota staat achtergrondinformatie ...   \n\n                 lastmodified                 available  \\\n167  2022-11-22T14:10:28.258Z  2022-11-18T09:32:00.000Z   \n193  2022-11-28T09:19:38.056Z  2022-11-11T16:55:00.000Z   \n205  2022-12-07T14:26:05.870Z  2022-11-23T10:14:00.000Z   \n208  2022-12-07T09:12:45.219Z  2022-11-24T18:28:00.000Z   \n335  2024-02-14T10:55:13.395Z  2024-02-14T10:48:57.349Z   \n\n                       initialdate content  \n167  2022-11-18T10:35:08.494+01:00     NaN  \n193  2022-11-11T18:12:56.474+01:00     NaN  \n205  2022-11-23T11:20:07.248+01:00     NaN  \n208  2022-11-24T18:40:07.314+01:00     NaN  \n335  2024-02-14T08:50:04.933+01:00     NaN  ",
      "text/html": "<div>\n<style scoped>\n    .dataframe tbody tr th:only-of-type {\n        vertical-align: middle;\n    }\n\n    .dataframe tbody tr th {\n        vertical-align: top;\n    }\n\n    .dataframe thead th {\n        text-align: right;\n    }\n</style>\n<table border=\"1\" class=\"dataframe\">\n  <thead>\n    <tr style=\"text-align: right;\">\n      <th></th>\n      <th>id</th>\n      <th>type</th>\n      <th>title</th>\n      <th>canonical</th>\n      <th>introduction</th>\n      <th>lastmodified</th>\n      <th>available</th>\n      <th>initialdate</th>\n      <th>content</th>\n    </tr>\n  </thead>\n  <tbody>\n    <tr>\n      <th>167</th>\n      <td>031c9ba6-b36f-444f-a683-9a2d134a8021</td>\n      <td>beleidsnota</td>\n      <td>Beslisnota bij antwoorden op Kamervragen over ...</td>\n      <td>https://www.rijksoverheid.nl/documenten/beleid...</td>\n      <td>In een beslisnota staat achtergrondinformatie ...</td>\n      <td>2022-11-22T14:10:28.258Z</td>\n      <td>2022-11-18T09:32:00.000Z</td>\n      <td>2022-11-18T10:35:08.494+01:00</td>\n      <td>NaN</td>\n    </tr>\n    <tr>\n      <th>193</th>\n      <td>c9a0943e-a057-4db2-bf52-a2f1ac8969d1</td>\n      <td>beleidsnota</td>\n      <td>Beslisnota bij antwoorden Kamervragen over toe...</td>\n      <td>https://www.rijksoverheid.nl/documenten/beleid...</td>\n      <td>In een beslisnota staat achtergrondinformatie ...</td>\n      <td>2022-11-28T09:19:38.056Z</td>\n      <td>2022-11-11T16:55:00.000Z</td>\n      <td>2022-11-11T18:12:56.474+01:00</td>\n      <td>NaN</td>\n    </tr>\n    <tr>\n      <th>205</th>\n      <td>12741548-91f5-4f41-b0cc-d380bf4125b1</td>\n      <td>rapport</td>\n      <td>Convenant waarborging .nl-domein 2022-2029</td>\n      <td>https://www.rijksoverheid.nl/documenten/rappor...</td>\n      <td>Het convenant tussen EZK en de Stichting Inter...</td>\n      <td>2022-12-07T14:26:05.870Z</td>\n      <td>2022-11-23T10:14:00.000Z</td>\n      <td>2022-11-23T11:20:07.248+01:00</td>\n      <td>NaN</td>\n    </tr>\n    <tr>\n      <th>208</th>\n      <td>e8c135f0-bade-4272-bdfe-1cfef4532e89</td>\n      <td>kamerstuk</td>\n      <td>Kamerbrief over advies van het Adviescollege I...</td>\n      <td>https://www.rijksoverheid.nl/documenten/kamers...</td>\n      <td>Minister Yeşilgöz-Zegerius (JenV) stuurt de Tw...</td>\n      <td>2022-12-07T09:12:45.219Z</td>\n      <td>2022-11-24T18:28:00.000Z</td>\n      <td>2022-11-24T18:40:07.314+01:00</td>\n      <td>NaN</td>\n    </tr>\n    <tr>\n      <th>335</th>\n      <td>c69b41f5-8fdd-4409-8d00-8b2827a059f8</td>\n      <td>beleidsnota</td>\n      <td>Beslisnota bij Kamerbrief over planning en voo...</td>\n      <td>https://www.rijksoverheid.nl/documenten/beleid...</td>\n      <td>In een beslisnota staat achtergrondinformatie ...</td>\n      <td>2024-02-14T10:55:13.395Z</td>\n      <td>2024-02-14T10:48:57.349Z</td>\n      <td>2024-02-14T08:50:04.933+01:00</td>\n      <td>NaN</td>\n    </tr>\n  </tbody>\n</table>\n</div>"
     },
     "execution_count": 13,
     "metadata": {},
     "output_type": "execute_result"
    }
   ],
   "source": [
    "# How many rows have NaN values in the content column?\n",
    "df[df['content'].isna()]"
   ],
   "metadata": {
    "collapsed": false,
    "ExecuteTime": {
     "end_time": "2024-04-02T09:59:30.152769Z",
     "start_time": "2024-04-02T09:59:30.145179Z"
    }
   },
   "id": "dc6c24f91dc255a3",
   "execution_count": 13
  },
  {
   "cell_type": "code",
   "outputs": [
    {
     "ename": "KeyError",
     "evalue": "430",
     "output_type": "error",
     "traceback": [
      "\u001B[0;31m---------------------------------------------------------------------------\u001B[0m",
      "\u001B[0;31mValueError\u001B[0m                                Traceback (most recent call last)",
      "File \u001B[0;32m~/PycharmProjects/LLM4GovTracking/venv/lib/python3.11/site-packages/pandas/core/indexes/range.py:413\u001B[0m, in \u001B[0;36mRangeIndex.get_loc\u001B[0;34m(self, key)\u001B[0m\n\u001B[1;32m    412\u001B[0m \u001B[38;5;28;01mtry\u001B[39;00m:\n\u001B[0;32m--> 413\u001B[0m     \u001B[38;5;28;01mreturn\u001B[39;00m \u001B[38;5;28;43mself\u001B[39;49m\u001B[38;5;241;43m.\u001B[39;49m\u001B[43m_range\u001B[49m\u001B[38;5;241;43m.\u001B[39;49m\u001B[43mindex\u001B[49m\u001B[43m(\u001B[49m\u001B[43mnew_key\u001B[49m\u001B[43m)\u001B[49m\n\u001B[1;32m    414\u001B[0m \u001B[38;5;28;01mexcept\u001B[39;00m \u001B[38;5;167;01mValueError\u001B[39;00m \u001B[38;5;28;01mas\u001B[39;00m err:\n",
      "\u001B[0;31mValueError\u001B[0m: 430 is not in range",
      "\nThe above exception was the direct cause of the following exception:\n",
      "\u001B[0;31mKeyError\u001B[0m                                  Traceback (most recent call last)",
      "Cell \u001B[0;32mIn[14], line 1\u001B[0m\n\u001B[0;32m----> 1\u001B[0m \u001B[43mdf\u001B[49m\u001B[43m[\u001B[49m\u001B[38;5;124;43m'\u001B[39;49m\u001B[38;5;124;43mcontent\u001B[39;49m\u001B[38;5;124;43m'\u001B[39;49m\u001B[43m]\u001B[49m\u001B[43m[\u001B[49m\u001B[38;5;241;43m430\u001B[39;49m\u001B[43m]\u001B[49m\n",
      "File \u001B[0;32m~/PycharmProjects/LLM4GovTracking/venv/lib/python3.11/site-packages/pandas/core/series.py:1112\u001B[0m, in \u001B[0;36mSeries.__getitem__\u001B[0;34m(self, key)\u001B[0m\n\u001B[1;32m   1109\u001B[0m     \u001B[38;5;28;01mreturn\u001B[39;00m \u001B[38;5;28mself\u001B[39m\u001B[38;5;241m.\u001B[39m_values[key]\n\u001B[1;32m   1111\u001B[0m \u001B[38;5;28;01melif\u001B[39;00m key_is_scalar:\n\u001B[0;32m-> 1112\u001B[0m     \u001B[38;5;28;01mreturn\u001B[39;00m \u001B[38;5;28;43mself\u001B[39;49m\u001B[38;5;241;43m.\u001B[39;49m\u001B[43m_get_value\u001B[49m\u001B[43m(\u001B[49m\u001B[43mkey\u001B[49m\u001B[43m)\u001B[49m\n\u001B[1;32m   1114\u001B[0m \u001B[38;5;66;03m# Convert generator to list before going through hashable part\u001B[39;00m\n\u001B[1;32m   1115\u001B[0m \u001B[38;5;66;03m# (We will iterate through the generator there to check for slices)\u001B[39;00m\n\u001B[1;32m   1116\u001B[0m \u001B[38;5;28;01mif\u001B[39;00m is_iterator(key):\n",
      "File \u001B[0;32m~/PycharmProjects/LLM4GovTracking/venv/lib/python3.11/site-packages/pandas/core/series.py:1228\u001B[0m, in \u001B[0;36mSeries._get_value\u001B[0;34m(self, label, takeable)\u001B[0m\n\u001B[1;32m   1225\u001B[0m     \u001B[38;5;28;01mreturn\u001B[39;00m \u001B[38;5;28mself\u001B[39m\u001B[38;5;241m.\u001B[39m_values[label]\n\u001B[1;32m   1227\u001B[0m \u001B[38;5;66;03m# Similar to Index.get_value, but we do not fall back to positional\u001B[39;00m\n\u001B[0;32m-> 1228\u001B[0m loc \u001B[38;5;241m=\u001B[39m \u001B[38;5;28;43mself\u001B[39;49m\u001B[38;5;241;43m.\u001B[39;49m\u001B[43mindex\u001B[49m\u001B[38;5;241;43m.\u001B[39;49m\u001B[43mget_loc\u001B[49m\u001B[43m(\u001B[49m\u001B[43mlabel\u001B[49m\u001B[43m)\u001B[49m\n\u001B[1;32m   1230\u001B[0m \u001B[38;5;28;01mif\u001B[39;00m is_integer(loc):\n\u001B[1;32m   1231\u001B[0m     \u001B[38;5;28;01mreturn\u001B[39;00m \u001B[38;5;28mself\u001B[39m\u001B[38;5;241m.\u001B[39m_values[loc]\n",
      "File \u001B[0;32m~/PycharmProjects/LLM4GovTracking/venv/lib/python3.11/site-packages/pandas/core/indexes/range.py:415\u001B[0m, in \u001B[0;36mRangeIndex.get_loc\u001B[0;34m(self, key)\u001B[0m\n\u001B[1;32m    413\u001B[0m         \u001B[38;5;28;01mreturn\u001B[39;00m \u001B[38;5;28mself\u001B[39m\u001B[38;5;241m.\u001B[39m_range\u001B[38;5;241m.\u001B[39mindex(new_key)\n\u001B[1;32m    414\u001B[0m     \u001B[38;5;28;01mexcept\u001B[39;00m \u001B[38;5;167;01mValueError\u001B[39;00m \u001B[38;5;28;01mas\u001B[39;00m err:\n\u001B[0;32m--> 415\u001B[0m         \u001B[38;5;28;01mraise\u001B[39;00m \u001B[38;5;167;01mKeyError\u001B[39;00m(key) \u001B[38;5;28;01mfrom\u001B[39;00m \u001B[38;5;21;01merr\u001B[39;00m\n\u001B[1;32m    416\u001B[0m \u001B[38;5;28;01mif\u001B[39;00m \u001B[38;5;28misinstance\u001B[39m(key, Hashable):\n\u001B[1;32m    417\u001B[0m     \u001B[38;5;28;01mraise\u001B[39;00m \u001B[38;5;167;01mKeyError\u001B[39;00m(key)\n",
      "\u001B[0;31mKeyError\u001B[0m: 430"
     ]
    }
   ],
   "source": [
    "df['content'][430]"
   ],
   "metadata": {
    "collapsed": false,
    "ExecuteTime": {
     "end_time": "2024-04-02T09:59:30.523689Z",
     "start_time": "2024-04-02T09:59:30.153755Z"
    }
   },
   "id": "676ecd323b608898",
   "execution_count": 14
  },
  {
   "cell_type": "code",
   "outputs": [],
   "source": [],
   "metadata": {
    "collapsed": false,
    "ExecuteTime": {
     "end_time": "2024-04-02T09:59:30.524934Z",
     "start_time": "2024-04-02T09:59:30.524831Z"
    }
   },
   "id": "30fca80b69247eb5"
  }
 ],
 "metadata": {
  "kernelspec": {
   "display_name": "Python 3",
   "language": "python",
   "name": "python3"
  },
  "language_info": {
   "codemirror_mode": {
    "name": "ipython",
    "version": 2
   },
   "file_extension": ".py",
   "mimetype": "text/x-python",
   "name": "python",
   "nbconvert_exporter": "python",
   "pygments_lexer": "ipython2",
   "version": "2.7.6"
  }
 },
 "nbformat": 4,
 "nbformat_minor": 5
}
