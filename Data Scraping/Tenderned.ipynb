{
 "cells": [
  {
   "cell_type": "code",
   "source": [
    "import requests\n",
    "from pathlib import Path\n",
    "import pandas as pd"
   ],
   "metadata": {
    "collapsed": false,
    "ExecuteTime": {
     "end_time": "2024-04-25T08:09:39.965798Z",
     "start_time": "2024-04-25T08:09:39.236626Z"
    }
   },
   "id": "68a7cc26484eadf7",
   "outputs": [],
   "execution_count": 1
  },
  {
   "cell_type": "code",
   "source": [
    "# create directory\n",
    "Path(\"../Data/TenderNed\").mkdir(parents=True, exist_ok=True)"
   ],
   "metadata": {
    "collapsed": false,
    "ExecuteTime": {
     "end_time": "2024-04-25T08:09:40.480300Z",
     "start_time": "2024-04-25T08:09:40.473376Z"
    }
   },
   "id": "2468f425b8f61f88",
   "outputs": [],
   "execution_count": 2
  },
  {
   "cell_type": "code",
   "id": "initial_id",
   "metadata": {
    "collapsed": true,
    "ExecuteTime": {
     "end_time": "2024-04-25T08:10:10.335416Z",
     "start_time": "2024-04-25T08:09:40.957911Z"
    }
   },
   "source": [
    "url = \"https://www.tenderned.nl/cms/sites/default/files/2024-02/2023.json\"\n",
    "\n",
    "with requests.session() as session:\n",
    "    # download the file\n",
    "    r = session.get(url, allow_redirects=True, stream=True)\n",
    "\n",
    "    # save the file\n",
    "    target_path = str('../Data/TenderNed/TenderNed_2023.json')\n",
    "    with open(target_path, 'wb') as f:\n",
    "        for chunk in r.iter_content(chunk_size=10 * 1024):\n",
    "            f.write(chunk)"
   ],
   "outputs": [],
   "execution_count": 3
  },
  {
   "cell_type": "code",
   "source": [
    "# laod the file\n",
    "import json\n",
    "with open('../Data/TenderNed/TenderNed_2023.json') as f:\n",
    "    data = json.load(f)    "
   ],
   "metadata": {
    "collapsed": false,
    "ExecuteTime": {
     "end_time": "2024-04-25T08:10:26.638697Z",
     "start_time": "2024-04-25T08:10:24.960011Z"
    }
   },
   "id": "bc5f45189b170cff",
   "outputs": [],
   "execution_count": 4
  },
  {
   "cell_type": "code",
   "source": [
    "# convert releases from data to dataframe\n",
    "df = pd.DataFrame(data['releases'])"
   ],
   "metadata": {
    "collapsed": false,
    "ExecuteTime": {
     "end_time": "2024-04-25T08:10:27.501397Z",
     "start_time": "2024-04-25T08:10:27.444804Z"
    }
   },
   "id": "4129098844c161c8",
   "outputs": [],
   "execution_count": 5
  },
  {
   "metadata": {
    "ExecuteTime": {
     "end_time": "2024-04-25T08:10:29.444570Z",
     "start_time": "2024-04-25T08:10:28.248412Z"
    }
   },
   "cell_type": "code",
   "source": [
    "# normalize the json data\n",
    "df2 = pd.json_normalize(df[\"tender\"])\n",
    "df2.columns = [f\"tender_{col}\" for col in df2.columns]\n",
    "df3 = pd.json_normalize(df[\"buyer\"])\n",
    "df3.columns = [f\"buyer_{col}\" for col in df3.columns]\n",
    "df4 = pd.json_normalize(df[\"parties\"])\n",
    "df4.columns = [f\"parties_{col}\" for col in df4.columns]\n",
    "# drop columns that are not needed\n",
    "df = df.drop(columns=[\"tender\", \"buyer\", \"parties\"])\n",
    "df6 = pd.concat([df, df2, df3, df4], axis=1)\n",
    "\n",
    "# define columns to be embedded and columns to be added to the metadata\n",
    "columns_to_embed = [\"tender_description\"]\n",
    "columns_to_metadata = [\"ocid\", \"date\", \"initiationType\", \"tender_title\", \"tender_documents\", \"tender_nationalOrEuropean\", \"tender_noticeTypeDetails\", \"tender_mainProcurementCategory\", \"tender_awardCriteriaDetails\", \"tender_tenderPeriod.endDate\", \"tender_contractPeriod.endDate\", \"tender_classification.description\", \"tender_value.amount\", \"tender_lots\"]"
   ],
   "id": "d930981300e070af",
   "outputs": [],
   "execution_count": 6
  },
  {
   "metadata": {
    "ExecuteTime": {
     "end_time": "2024-04-25T08:10:52.230587Z",
     "start_time": "2024-04-25T08:10:50.822049Z"
    }
   },
   "cell_type": "code",
   "source": [
    "# write to csv\n",
    "df6.to_csv(\"../Data/TenderNed/TenderNed_2023.csv\", index=False)"
   ],
   "id": "98eaed96c766fb44",
   "outputs": [],
   "execution_count": 7
  },
  {
   "cell_type": "code",
   "outputs": [],
   "source": [],
   "metadata": {
    "collapsed": false
   },
   "id": "783cf755883fcab0"
  }
 ],
 "metadata": {
  "kernelspec": {
   "display_name": "Python 3",
   "language": "python",
   "name": "python3"
  },
  "language_info": {
   "codemirror_mode": {
    "name": "ipython",
    "version": 2
   },
   "file_extension": ".py",
   "mimetype": "text/x-python",
   "name": "python",
   "nbconvert_exporter": "python",
   "pygments_lexer": "ipython2",
   "version": "2.7.6"
  }
 },
 "nbformat": 4,
 "nbformat_minor": 5
}
