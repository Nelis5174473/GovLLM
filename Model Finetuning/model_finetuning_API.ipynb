{
 "cells": [
  {
   "cell_type": "markdown",
   "source": [
    "# Model Finetuning through Huggingface's API\n",
    "\n",
    "Based on tutorial ['Fine-tune a pretrained model](https://huggingface.co/docs/transformers/training) from Huggingface's documentation."
   ],
   "metadata": {
    "collapsed": false
   },
   "id": "bc2f259421579995"
  },
  {
   "cell_type": "markdown",
   "source": [
    "### Imports"
   ],
   "metadata": {
    "collapsed": false
   },
   "id": "6f1da51bb4684506"
  },
  {
   "cell_type": "code",
   "outputs": [],
   "source": [
    "from datasets import Dataset, load_dataset\n",
    "from transformers import AutoTokenizer, AutoModelForCausalLM, Trainer, TrainingArguments\n",
    "import numpy as np\n",
    "import pandas as pd\n",
    "import evaluate\n",
    "from huggingface_hub import login"
   ],
   "metadata": {
    "collapsed": false,
    "ExecuteTime": {
     "end_time": "2024-03-22T08:12:44.069760Z",
     "start_time": "2024-03-22T08:12:41.906593Z"
    }
   },
   "id": "c3df72c6f0f55514",
   "execution_count": 1
  },
  {
   "cell_type": "markdown",
   "source": [
    "### Load and Prepare the Dataset"
   ],
   "metadata": {
    "collapsed": false
   },
   "id": "de7e1fd6bd85b086"
  },
  {
   "cell_type": "code",
   "outputs": [
    {
     "data": {
      "text/plain": "Generating train split: 0 examples [00:00, ? examples/s]",
      "application/vnd.jupyter.widget-view+json": {
       "version_major": 2,
       "version_minor": 0,
       "model_id": "d7c4705129b8478aaafe210a5fcdce73"
      }
     },
     "metadata": {},
     "output_type": "display_data"
    }
   ],
   "source": [
    "dataset = load_dataset('csv', data_files='../Data/iBestuur/ibestuur_articles.csv')"
   ],
   "metadata": {
    "collapsed": false,
    "ExecuteTime": {
     "end_time": "2024-03-22T08:12:45.399056Z",
     "start_time": "2024-03-22T08:12:44.588821Z"
    }
   },
   "id": "4b173f0373f6a344",
   "execution_count": 2
  },
  {
   "cell_type": "code",
   "outputs": [
    {
     "data": {
      "text/plain": "DatasetDict({\n    train: Dataset({\n        features: ['title', 'content'],\n        num_rows: 5317\n    })\n})"
     },
     "execution_count": 6,
     "metadata": {},
     "output_type": "execute_result"
    }
   ],
   "source": [
    "dataset.remove_columns('url')"
   ],
   "metadata": {
    "collapsed": false,
    "ExecuteTime": {
     "end_time": "2024-03-22T08:15:36.704632Z",
     "start_time": "2024-03-22T08:15:36.697193Z"
    }
   },
   "id": "c056e932a8bdfc35",
   "execution_count": 6
  },
  {
   "cell_type": "markdown",
   "source": [
    "### Tokenize the Dataset"
   ],
   "metadata": {
    "collapsed": false
   },
   "id": "ca1e2ab5742a8ece"
  },
  {
   "cell_type": "code",
   "outputs": [],
   "source": [
    "tokenizer = AutoTokenizer.from_pretrained(\"BramVanroy/GEITje-7B-ultra\")"
   ],
   "metadata": {
    "collapsed": false,
    "ExecuteTime": {
     "end_time": "2024-03-22T08:16:59.571177Z",
     "start_time": "2024-03-22T08:16:59.384795Z"
    }
   },
   "id": "c652fbdfae2f2af9",
   "execution_count": 8
  },
  {
   "cell_type": "code",
   "outputs": [],
   "source": [
    "def tokenize_function(examples):\n",
    "    return tokenizer(examples['content'], padding=\"max_length\", truncation=True)"
   ],
   "metadata": {
    "collapsed": false,
    "ExecuteTime": {
     "end_time": "2024-03-22T08:17:46.220602Z",
     "start_time": "2024-03-22T08:17:46.216705Z"
    }
   },
   "id": "b1c9c4dccf734b43",
   "execution_count": 9
  },
  {
   "cell_type": "code",
   "outputs": [
    {
     "data": {
      "text/plain": "Map:   0%|          | 0/5317 [00:00<?, ? examples/s]",
      "application/vnd.jupyter.widget-view+json": {
       "version_major": 2,
       "version_minor": 0,
       "model_id": "ce9b7095601c4a758ec338f0b1960873"
      }
     },
     "metadata": {},
     "output_type": "display_data"
    }
   ],
   "source": [
    "tokenized_dataset = dataset.map(tokenize_function, batched=True)"
   ],
   "metadata": {
    "collapsed": false,
    "ExecuteTime": {
     "end_time": "2024-03-22T08:18:06.454162Z",
     "start_time": "2024-03-22T08:17:59.707649Z"
    }
   },
   "id": "3e073b64c1256fb5",
   "execution_count": 10
  },
  {
   "cell_type": "markdown",
   "source": [
    "### Login with Hugginface's CLI"
   ],
   "metadata": {
    "collapsed": false
   },
   "id": "4fd715851492c5b3"
  },
  {
   "cell_type": "code",
   "outputs": [
    {
     "data": {
      "text/plain": "VBox(children=(HTML(value='<center> <img\\nsrc=https://huggingface.co/front/assets/huggingface_logo-noborder.sv…",
      "application/vnd.jupyter.widget-view+json": {
       "version_major": 2,
       "version_minor": 0,
       "model_id": "41696ac5d0ab43dab2ac01fdccc51dfe"
      }
     },
     "metadata": {},
     "output_type": "display_data"
    }
   ],
   "source": [
    "login()"
   ],
   "metadata": {
    "collapsed": false,
    "ExecuteTime": {
     "end_time": "2024-03-22T08:19:50.166625Z",
     "start_time": "2024-03-22T08:19:50.152187Z"
    }
   },
   "id": "57c946ae2c4ebe7a",
   "execution_count": 13
  },
  {
   "cell_type": "code",
   "outputs": [],
   "source": [],
   "metadata": {
    "collapsed": false
   },
   "id": "44bf18420ff9840"
  }
 ],
 "metadata": {
  "kernelspec": {
   "display_name": "Python 3",
   "language": "python",
   "name": "python3"
  },
  "language_info": {
   "codemirror_mode": {
    "name": "ipython",
    "version": 2
   },
   "file_extension": ".py",
   "mimetype": "text/x-python",
   "name": "python",
   "nbconvert_exporter": "python",
   "pygments_lexer": "ipython2",
   "version": "2.7.6"
  }
 },
 "nbformat": 4,
 "nbformat_minor": 5
}
