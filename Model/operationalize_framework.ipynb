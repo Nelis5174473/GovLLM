{
 "cells": [
  {
   "cell_type": "markdown",
   "source": [
    "# Operationalize GovTech Benchmarking Framework"
   ],
   "metadata": {
    "collapsed": false
   },
   "id": "1e0888c27f1d3712"
  },
  {
   "cell_type": "code",
   "outputs": [],
   "source": [
    "import requests\n",
    "import pandas as pd\n",
    "from getpass import getpass\n",
    "from tqdm import tqdm "
   ],
   "metadata": {
    "collapsed": false,
    "ExecuteTime": {
     "end_time": "2024-05-06T16:40:06.483275Z",
     "start_time": "2024-05-06T16:40:06.469713Z"
    }
   },
   "id": "4b95bba8f12a79a7",
   "execution_count": 41
  },
  {
   "cell_type": "markdown",
   "source": [
    "### Set up the inference pipeline"
   ],
   "metadata": {
    "collapsed": false
   },
   "id": "d84c3d826485833b"
  },
  {
   "cell_type": "code",
   "outputs": [],
   "source": [
    "# GovLLM-7B-ultra: Make sure to replace these values with your personal API URL and KEY\n",
    "API_URL = \"https://o0g65mtefl5fhjjw.us-east-1.aws.endpoints.huggingface.cloud\"\n",
    "API_KEY = getpass(\"Enter your API KEY:\")"
   ],
   "metadata": {
    "collapsed": false,
    "ExecuteTime": {
     "end_time": "2024-05-06T16:40:18.680143Z",
     "start_time": "2024-05-06T16:40:14.928191Z"
    }
   },
   "id": "dcf9079888422d5a",
   "execution_count": 42
  },
  {
   "cell_type": "code",
   "outputs": [],
   "source": [
    "# # GEITje-7B-ultra: Make sure to replace these values with your personal API URL and KEY\n",
    "# API_URL = \"https://oi6h8u843v8nt5qt.eu-west-1.aws.endpoints.huggingface.cloud\"\n",
    "# API_KEY = getpass(\"Enter your API KEY:\")"
   ],
   "metadata": {
    "collapsed": false,
    "ExecuteTime": {
     "end_time": "2024-05-06T16:40:19.523043Z",
     "start_time": "2024-05-06T16:40:19.520309Z"
    }
   },
   "id": "a14401db2d7e523b",
   "execution_count": 43
  },
  {
   "cell_type": "code",
   "outputs": [],
   "source": [
    "headers = {\n",
    "\t\"Accept\" : \"application/json\",\n",
    "\t\"Authorization\": \"Bearer \" + API_KEY,\n",
    "    \"Content-Type\": \"application/json\" \n",
    "}"
   ],
   "metadata": {
    "collapsed": false,
    "ExecuteTime": {
     "end_time": "2024-05-06T16:40:20.255958Z",
     "start_time": "2024-05-06T16:40:20.252586Z"
    }
   },
   "id": "8c09a5db4f181052",
   "execution_count": 44
  },
  {
   "cell_type": "code",
   "outputs": [],
   "source": [
    "def query(prompt, parameters=None):\n",
    "\tif parameters is None:\n",
    "\t\tparameters = {\n",
    "\t\t\t\"max_new_tokens\": 128,\n",
    "\t\t\t\"temperature\": 0.5,\n",
    "\t\t\t\"top_p\": 0.99,\n",
    "\t\t\t\"top_k\": 50,\n",
    "\t\t\t\"repetition_penalty\": 1.,\n",
    "\t\t\t\"wait_for_model\": True,\n",
    "\t\t\t\"do_sample\": False\n",
    "\t\t}\n",
    "\t\t\t\n",
    "\tpayload = {\n",
    "\t\t\"inputs\": prompt,\n",
    "\t\t\"parameters\": parameters\n",
    "\t}\n",
    "\t\n",
    "\tresponse = requests.post(API_URL, headers=headers, json=payload)\n",
    "\t# response successful? if not print the full error message\n",
    "\tresponse.raise_for_status()\n",
    "\treturn response.json()"
   ],
   "metadata": {
    "collapsed": false,
    "ExecuteTime": {
     "end_time": "2024-05-06T17:07:11.445858Z",
     "start_time": "2024-05-06T17:07:11.441646Z"
    }
   },
   "id": "836b9225398ba032",
   "execution_count": 91
  },
  {
   "cell_type": "markdown",
   "source": [
    "### Load framework"
   ],
   "metadata": {
    "collapsed": false
   },
   "id": "d6b9b934fb12550f"
  },
  {
   "cell_type": "code",
   "outputs": [],
   "source": [
    "# prevent reading extra unnamed column\n",
    "framework = pd.read_csv(\"../Results/framework_questions_translated.csv\", usecols=[' #', '2022 GTMI Indicators & Sub-indicators NL', 'Response options & Data format NL'])\n"
   ],
   "metadata": {
    "collapsed": false,
    "ExecuteTime": {
     "end_time": "2024-05-06T17:29:13.304855Z",
     "start_time": "2024-05-06T17:29:13.298141Z"
    }
   },
   "id": "4b5de1bb778a0251",
   "execution_count": 130
  },
  {
   "cell_type": "code",
   "outputs": [
    {
     "data": {
      "text/plain": "       #           2022 GTMI Indicators & Sub-indicators NL  \\\n0    I-1  Is er een gedeeld cloud platform beschikbaar v...   \n1  I-1.1              Naam van het Overheids Cloud platform   \n2  I-1.2                     Cloud platform / strategie URL   \n3  I-1.3  Overheids Cloud gelanceerd / zal worden gelanc...   \n4  I-1.4                    Type beschikbaar cloud platform   \n\n                   Response options & Data format NL  \n0  0= Nee, 1= Alleen cloud strategie/beleid (nog ...  \n1                                              Tekst  \n2                                                URL  \n3                                               YYYY  \n4  0= Onbekend, 1= Publiek (Commercieel), 2= Priv...  ",
      "text/html": "<div>\n<style scoped>\n    .dataframe tbody tr th:only-of-type {\n        vertical-align: middle;\n    }\n\n    .dataframe tbody tr th {\n        vertical-align: top;\n    }\n\n    .dataframe thead th {\n        text-align: right;\n    }\n</style>\n<table border=\"1\" class=\"dataframe\">\n  <thead>\n    <tr style=\"text-align: right;\">\n      <th></th>\n      <th>#</th>\n      <th>2022 GTMI Indicators &amp; Sub-indicators NL</th>\n      <th>Response options &amp; Data format NL</th>\n    </tr>\n  </thead>\n  <tbody>\n    <tr>\n      <th>0</th>\n      <td>I-1</td>\n      <td>Is er een gedeeld cloud platform beschikbaar v...</td>\n      <td>0= Nee, 1= Alleen cloud strategie/beleid (nog ...</td>\n    </tr>\n    <tr>\n      <th>1</th>\n      <td>I-1.1</td>\n      <td>Naam van het Overheids Cloud platform</td>\n      <td>Tekst</td>\n    </tr>\n    <tr>\n      <th>2</th>\n      <td>I-1.2</td>\n      <td>Cloud platform / strategie URL</td>\n      <td>URL</td>\n    </tr>\n    <tr>\n      <th>3</th>\n      <td>I-1.3</td>\n      <td>Overheids Cloud gelanceerd / zal worden gelanc...</td>\n      <td>YYYY</td>\n    </tr>\n    <tr>\n      <th>4</th>\n      <td>I-1.4</td>\n      <td>Type beschikbaar cloud platform</td>\n      <td>0= Onbekend, 1= Publiek (Commercieel), 2= Priv...</td>\n    </tr>\n  </tbody>\n</table>\n</div>"
     },
     "execution_count": 131,
     "metadata": {},
     "output_type": "execute_result"
    }
   ],
   "source": [
    "framework.head()"
   ],
   "metadata": {
    "collapsed": false,
    "ExecuteTime": {
     "end_time": "2024-05-06T17:29:14.680854Z",
     "start_time": "2024-05-06T17:29:14.674551Z"
    }
   },
   "id": "6933ed5c66edf0a6",
   "execution_count": 131
  },
  {
   "cell_type": "markdown",
   "source": [
    "## Define functions to operationalize dataframe with answers and prompts"
   ],
   "metadata": {
    "collapsed": false
   },
   "id": "d237116893fd69e2"
  },
  {
   "cell_type": "code",
   "outputs": [],
   "source": [
    "def get_main_indicator(index):\n",
    "    if '.' in index:\n",
    "        return index.split('.')[0]\n",
    "    return index"
   ],
   "metadata": {
    "collapsed": false,
    "ExecuteTime": {
     "end_time": "2024-05-06T17:29:15.777901Z",
     "start_time": "2024-05-06T17:29:15.774638Z"
    }
   },
   "id": "e9aaf0ab7d11f404",
   "execution_count": 132
  },
  {
   "cell_type": "code",
   "outputs": [],
   "source": [
    "def generate_prompt(role, indicator, sub_indicator, data_format):\n",
    "\trole = role + f\"DATA FORMAT: {data_format} \"\n",
    "\tif sub_indicator:\n",
    "\t\tquestion = f\"{indicator}, indien ja, wat is de {sub_indicator} ?\"\n",
    "\telse:\n",
    "\t\tquestion = f\"{indicator} ?\"\n",
    "\tprompt =  f\"{role} \\n\\nVRAAG: {question} \\n\\nANTWOORD:\"\n",
    "\treturn prompt"
   ],
   "metadata": {
    "collapsed": false,
    "ExecuteTime": {
     "end_time": "2024-05-06T17:29:16.145827Z",
     "start_time": "2024-05-06T17:29:16.142079Z"
    }
   },
   "id": "50c80577302ba136",
   "execution_count": 133
  },
  {
   "cell_type": "code",
   "outputs": [],
   "source": [
    "def operationalize_framework(framework, role):\n",
    "\tframework_operationalized = framework.copy()\n",
    "\tframework_operationalized[\"Operationalisatie\"] = None\n",
    "\tframework_operationalized['Prompt'] = None\n",
    "\tframework_operationalized[' #'] = framework_operationalized[' #'].str.replace('I-', '')\n",
    "\n",
    "\tfor index, row in tqdm(framework_operationalized.iterrows(), total=framework_operationalized.shape[0]):\n",
    "\t\tidx = row[' #']\n",
    "\t\tmain_indicator_idx = get_main_indicator(idx)\n",
    "\t\tsub_indicator_idx = idx.split('.')[1] if '.' in idx else None\n",
    "\t\tindicator_info = row['2022 GTMI Indicators & Sub-indicators NL']\n",
    "\t\tdata_format = row['Response options & Data format NL']\n",
    "\t\t\t\t\n",
    "\t\tif sub_indicator_idx:\n",
    "\t\t\t# look up the main indicator\n",
    "\t\t\tmain_indicator = framework_operationalized.loc[framework_operationalized[' #'] == main_indicator_idx]['2022 GTMI Indicators & Sub-indicators NL'].iloc[0]\n",
    "\t\t\tprompt = generate_prompt(role, main_indicator, indicator_info, data_format)\n",
    "\t\telse:\n",
    "\t\t\tprompt = generate_prompt(role, indicator_info, None, data_format)\n",
    "\t\toutput = query(prompt)\n",
    "\t\tframework_operationalized.loc[framework_operationalized[' #'] == idx, 'Operationalisatie'] = output[0]['generated_text']\n",
    "\t\tframework_operationalized.loc[framework_operationalized[' #'] == idx, 'Prompt'] = prompt\n",
    "\t\t\n",
    "\treturn framework_operationalized"
   ],
   "metadata": {
    "collapsed": false,
    "ExecuteTime": {
     "end_time": "2024-05-06T17:29:16.498516Z",
     "start_time": "2024-05-06T17:29:16.494177Z"
    }
   },
   "id": "38aabbb1dc85585b",
   "execution_count": 134
  },
  {
   "cell_type": "markdown",
   "source": [
    "### RUN THIS AWESOME FRAMEWORK OPERATIONALIZATION"
   ],
   "metadata": {
    "collapsed": false
   },
   "id": "a7d48d4af9597fcb"
  },
  {
   "cell_type": "code",
   "outputs": [],
   "source": [
    "role = \"Je bent 'GovTech-GPT', een geavanceerde AI-assistent met uitgebreide expertise in digitale technologieën specifiek gericht op toepassingen binnen de Nederlandse overheid. Je belangrijkste taak is het ondersteunen bij het operationaliseren van e-gov benchmarking frameworks. Je antwoordt altijd op basis van de meest recente gegevens en inzichten, en houdt rekening met de specifieke context van de Nederlandse overheid. Antwoorden geef je alleen volgens het gespecificeerde dataformat, waarbij je, indien mogelijk, het cijfer gebruikt en niet de tekst. Voeg verder geen enkele tekst, toelichting of uitleg meer toe. Als je het antwoord niet weet, geef je geen fictieve informatie of uitleg, maar antwoord enkel en alleen met: 'Geen antwoord.'  \\n\\n\""
   ],
   "metadata": {
    "collapsed": false,
    "ExecuteTime": {
     "end_time": "2024-05-06T17:29:17.369881Z",
     "start_time": "2024-05-06T17:29:17.368079Z"
    }
   },
   "id": "e05c90e8216b2b3c",
   "execution_count": 135
  },
  {
   "cell_type": "code",
   "outputs": [],
   "source": [
    "# # test with small sample\n",
    "# framework = framework.head()"
   ],
   "metadata": {
    "collapsed": false,
    "ExecuteTime": {
     "end_time": "2024-05-06T17:29:18.222506Z",
     "start_time": "2024-05-06T17:29:18.220007Z"
    }
   },
   "id": "b05fcb18c81ab90e",
   "execution_count": 136
  },
  {
   "cell_type": "code",
   "outputs": [
    {
     "name": "stderr",
     "output_type": "stream",
     "text": [
      "100%|██████████| 351/351 [11:15<00:00,  1.92s/it]\n"
     ]
    }
   ],
   "source": [
    "df = operationalize_framework(framework, role)"
   ],
   "metadata": {
    "collapsed": false,
    "ExecuteTime": {
     "end_time": "2024-05-06T17:40:36.124913Z",
     "start_time": "2024-05-06T17:29:20.970342Z"
    }
   },
   "id": "6b352fffef12b464",
   "execution_count": 137
  },
  {
   "cell_type": "code",
   "outputs": [
    {
     "data": {
      "text/plain": "     #           2022 GTMI Indicators & Sub-indicators NL  \\\n0    1  Is er een gedeeld cloud platform beschikbaar v...   \n1  1.1              Naam van het Overheids Cloud platform   \n2  1.2                     Cloud platform / strategie URL   \n3  1.3  Overheids Cloud gelanceerd / zal worden gelanc...   \n4  1.4                    Type beschikbaar cloud platform   \n\n                   Response options & Data format NL  \\\n0  0= Nee, 1= Alleen cloud strategie/beleid (nog ...   \n1                                              Tekst   \n2                                                URL   \n3                                               YYYY   \n4  0= Onbekend, 1= Publiek (Commercieel), 2= Priv...   \n\n                                   Operationalisatie  \\\n0  Je bent 'GovTech-GPT', een geavanceerde AI-ass...   \n1  Je bent 'GovTech-GPT', een geavanceerde AI-ass...   \n2  Je bent 'GovTech-GPT', een geavanceerde AI-ass...   \n3  Je bent 'GovTech-GPT', een geavanceerde AI-ass...   \n4  Je bent 'GovTech-GPT', een geavanceerde AI-ass...   \n\n                                              Prompt  \n0  Je bent 'GovTech-GPT', een geavanceerde AI-ass...  \n1  Je bent 'GovTech-GPT', een geavanceerde AI-ass...  \n2  Je bent 'GovTech-GPT', een geavanceerde AI-ass...  \n3  Je bent 'GovTech-GPT', een geavanceerde AI-ass...  \n4  Je bent 'GovTech-GPT', een geavanceerde AI-ass...  ",
      "text/html": "<div>\n<style scoped>\n    .dataframe tbody tr th:only-of-type {\n        vertical-align: middle;\n    }\n\n    .dataframe tbody tr th {\n        vertical-align: top;\n    }\n\n    .dataframe thead th {\n        text-align: right;\n    }\n</style>\n<table border=\"1\" class=\"dataframe\">\n  <thead>\n    <tr style=\"text-align: right;\">\n      <th></th>\n      <th>#</th>\n      <th>2022 GTMI Indicators &amp; Sub-indicators NL</th>\n      <th>Response options &amp; Data format NL</th>\n      <th>Operationalisatie</th>\n      <th>Prompt</th>\n    </tr>\n  </thead>\n  <tbody>\n    <tr>\n      <th>0</th>\n      <td>1</td>\n      <td>Is er een gedeeld cloud platform beschikbaar v...</td>\n      <td>0= Nee, 1= Alleen cloud strategie/beleid (nog ...</td>\n      <td>Je bent 'GovTech-GPT', een geavanceerde AI-ass...</td>\n      <td>Je bent 'GovTech-GPT', een geavanceerde AI-ass...</td>\n    </tr>\n    <tr>\n      <th>1</th>\n      <td>1.1</td>\n      <td>Naam van het Overheids Cloud platform</td>\n      <td>Tekst</td>\n      <td>Je bent 'GovTech-GPT', een geavanceerde AI-ass...</td>\n      <td>Je bent 'GovTech-GPT', een geavanceerde AI-ass...</td>\n    </tr>\n    <tr>\n      <th>2</th>\n      <td>1.2</td>\n      <td>Cloud platform / strategie URL</td>\n      <td>URL</td>\n      <td>Je bent 'GovTech-GPT', een geavanceerde AI-ass...</td>\n      <td>Je bent 'GovTech-GPT', een geavanceerde AI-ass...</td>\n    </tr>\n    <tr>\n      <th>3</th>\n      <td>1.3</td>\n      <td>Overheids Cloud gelanceerd / zal worden gelanc...</td>\n      <td>YYYY</td>\n      <td>Je bent 'GovTech-GPT', een geavanceerde AI-ass...</td>\n      <td>Je bent 'GovTech-GPT', een geavanceerde AI-ass...</td>\n    </tr>\n    <tr>\n      <th>4</th>\n      <td>1.4</td>\n      <td>Type beschikbaar cloud platform</td>\n      <td>0= Onbekend, 1= Publiek (Commercieel), 2= Priv...</td>\n      <td>Je bent 'GovTech-GPT', een geavanceerde AI-ass...</td>\n      <td>Je bent 'GovTech-GPT', een geavanceerde AI-ass...</td>\n    </tr>\n  </tbody>\n</table>\n</div>"
     },
     "execution_count": 138,
     "metadata": {},
     "output_type": "execute_result"
    }
   ],
   "source": [
    "df.head()"
   ],
   "metadata": {
    "collapsed": false,
    "ExecuteTime": {
     "end_time": "2024-05-06T17:43:25.422951Z",
     "start_time": "2024-05-06T17:43:25.414148Z"
    }
   },
   "id": "6baf338087446a8a",
   "execution_count": 138
  },
  {
   "cell_type": "code",
   "outputs": [
    {
     "data": {
      "text/plain": "     #           2022 GTMI Indicators & Sub-indicators NL  \\\n0    1  Is er een gedeeld cloud platform beschikbaar v...   \n1  1.1              Naam van het Overheids Cloud platform   \n2  1.2                     Cloud platform / strategie URL   \n3  1.3  Overheids Cloud gelanceerd / zal worden gelanc...   \n4  1.4                    Type beschikbaar cloud platform   \n\n                   Response options & Data format NL  \\\n0  0= Nee, 1= Alleen cloud strategie/beleid (nog ...   \n1                                              Tekst   \n2                                                URL   \n3                                               YYYY   \n4  0= Onbekend, 1= Publiek (Commercieel), 2= Priv...   \n\n                                   Operationalisatie  \\\n0  Je bent 'GovTech-GPT', een geavanceerde AI-ass...   \n1  Je bent 'GovTech-GPT', een geavanceerde AI-ass...   \n2  Je bent 'GovTech-GPT', een geavanceerde AI-ass...   \n3  Je bent 'GovTech-GPT', een geavanceerde AI-ass...   \n4  Je bent 'GovTech-GPT', een geavanceerde AI-ass...   \n\n                                              Prompt  \n0  Je bent 'GovTech-GPT', een geavanceerde AI-ass...  \n1  Je bent 'GovTech-GPT', een geavanceerde AI-ass...  \n2  Je bent 'GovTech-GPT', een geavanceerde AI-ass...  \n3  Je bent 'GovTech-GPT', een geavanceerde AI-ass...  \n4  Je bent 'GovTech-GPT', een geavanceerde AI-ass...  ",
      "text/html": "<div>\n<style scoped>\n    .dataframe tbody tr th:only-of-type {\n        vertical-align: middle;\n    }\n\n    .dataframe tbody tr th {\n        vertical-align: top;\n    }\n\n    .dataframe thead th {\n        text-align: right;\n    }\n</style>\n<table border=\"1\" class=\"dataframe\">\n  <thead>\n    <tr style=\"text-align: right;\">\n      <th></th>\n      <th>#</th>\n      <th>2022 GTMI Indicators &amp; Sub-indicators NL</th>\n      <th>Response options &amp; Data format NL</th>\n      <th>Operationalisatie</th>\n      <th>Prompt</th>\n    </tr>\n  </thead>\n  <tbody>\n    <tr>\n      <th>0</th>\n      <td>1</td>\n      <td>Is er een gedeeld cloud platform beschikbaar v...</td>\n      <td>0= Nee, 1= Alleen cloud strategie/beleid (nog ...</td>\n      <td>Je bent 'GovTech-GPT', een geavanceerde AI-ass...</td>\n      <td>Je bent 'GovTech-GPT', een geavanceerde AI-ass...</td>\n    </tr>\n    <tr>\n      <th>1</th>\n      <td>1.1</td>\n      <td>Naam van het Overheids Cloud platform</td>\n      <td>Tekst</td>\n      <td>Je bent 'GovTech-GPT', een geavanceerde AI-ass...</td>\n      <td>Je bent 'GovTech-GPT', een geavanceerde AI-ass...</td>\n    </tr>\n    <tr>\n      <th>2</th>\n      <td>1.2</td>\n      <td>Cloud platform / strategie URL</td>\n      <td>URL</td>\n      <td>Je bent 'GovTech-GPT', een geavanceerde AI-ass...</td>\n      <td>Je bent 'GovTech-GPT', een geavanceerde AI-ass...</td>\n    </tr>\n    <tr>\n      <th>3</th>\n      <td>1.3</td>\n      <td>Overheids Cloud gelanceerd / zal worden gelanc...</td>\n      <td>YYYY</td>\n      <td>Je bent 'GovTech-GPT', een geavanceerde AI-ass...</td>\n      <td>Je bent 'GovTech-GPT', een geavanceerde AI-ass...</td>\n    </tr>\n    <tr>\n      <th>4</th>\n      <td>1.4</td>\n      <td>Type beschikbaar cloud platform</td>\n      <td>0= Onbekend, 1= Publiek (Commercieel), 2= Priv...</td>\n      <td>Je bent 'GovTech-GPT', een geavanceerde AI-ass...</td>\n      <td>Je bent 'GovTech-GPT', een geavanceerde AI-ass...</td>\n    </tr>\n  </tbody>\n</table>\n</div>"
     },
     "execution_count": 128,
     "metadata": {},
     "output_type": "execute_result"
    }
   ],
   "source": [
    "df2"
   ],
   "metadata": {
    "collapsed": false,
    "ExecuteTime": {
     "end_time": "2024-05-06T17:28:36.825283Z",
     "start_time": "2024-05-06T17:28:36.821360Z"
    }
   },
   "id": "8e1d9e8a1d97c4f0",
   "execution_count": 128
  },
  {
   "cell_type": "code",
   "outputs": [
    {
     "name": "stdout",
     "output_type": "stream",
     "text": [
      "PROMPT: Je bent 'GovTech-GPT', een geavanceerde AI-assistent met uitgebreide expertise in digitale technologieën specifiek gericht op toepassingen binnen de Nederlandse overheid. Je belangrijkste taak is het ondersteunen bij het operationaliseren van e-gov benchmarking frameworks. Je antwoordt altijd op basis van de meest recente gegevens en inzichten, en houdt rekening met de specifieke context van de Nederlandse overheid. Antwoorden geef je alleen volgens het gespecificeerde dataformat, waarbij je, indien mogelijk, het cijfer gebruikt en niet de tekst. Voeg verder geen enkele tekst, toelichting of uitleg meer toe. Als je het antwoord niet weet, geef je geen fictieve informatie of uitleg, maar antwoord enkel en alleen met: 'Geen antwoord.'  \n",
      "\n",
      "DATA FORMAT: 0= Nee, 1= Alleen cloud strategie/beleid (nog geen platform), 2= Ja (platform in gebruik)  \n",
      "\n",
      "VRAAG: Is er een gedeeld cloud platform beschikbaar voor alle overheids organisaties? ? \n",
      "\n",
      "ANTWOORD:\n",
      "Je bent 'GovTech-GPT', een geavanceerde AI-assistent met uitgebreide expertise in digitale technologieën specifiek gericht op toepassingen binnen de Nederlandse overheid. Je belangrijkste taak is het ondersteunen bij het operationaliseren van e-gov benchmarking frameworks. Je antwoordt altijd op basis van de meest recente gegevens en inzichten, en houdt rekening met de specifieke context van de Nederlandse overheid. Antwoorden geef je alleen volgens het gespecificeerde dataformat, waarbij je, indien mogelijk, het cijfer gebruikt en niet de tekst. Voeg verder geen enkele tekst, toelichting of uitleg meer toe. Als je het antwoord niet weet, geef je geen fictieve informatie of uitleg, maar antwoord enkel en alleen met: 'Geen antwoord.'  \n",
      "\n",
      "DATA FORMAT: 0= Nee, 1= Alleen cloud strategie/beleid (nog geen platform), 2= Ja (platform in gebruik)  \n",
      "\n",
      "VRAAG: Is er een gedeeld cloud platform beschikbaar voor alle overheids organisaties? ? \n",
      "\n",
      "ANTWOORD: 1 \n",
      "\n",
      "\n",
      "PROMPT: Je bent 'GovTech-GPT', een geavanceerde AI-assistent met uitgebreide expertise in digitale technologieën specifiek gericht op toepassingen binnen de Nederlandse overheid. Je belangrijkste taak is het ondersteunen bij het operationaliseren van e-gov benchmarking frameworks. Je antwoordt altijd op basis van de meest recente gegevens en inzichten, en houdt rekening met de specifieke context van de Nederlandse overheid. Antwoorden geef je alleen volgens het gespecificeerde dataformat, waarbij je, indien mogelijk, het cijfer gebruikt en niet de tekst. Voeg verder geen enkele tekst, toelichting of uitleg meer toe. Als je het antwoord niet weet, geef je geen fictieve informatie of uitleg, maar antwoord enkel en alleen met: 'Geen antwoord.'  \n",
      "\n",
      "DATA FORMAT: Tekst  \n",
      "\n",
      "VRAAG: Is er een gedeeld cloud platform beschikbaar voor alle overheids organisaties?, indien ja, wat is de Naam van het Overheids Cloud platform ? \n",
      "\n",
      "ANTWOORD:\n",
      "Je bent 'GovTech-GPT', een geavanceerde AI-assistent met uitgebreide expertise in digitale technologieën specifiek gericht op toepassingen binnen de Nederlandse overheid. Je belangrijkste taak is het ondersteunen bij het operationaliseren van e-gov benchmarking frameworks. Je antwoordt altijd op basis van de meest recente gegevens en inzichten, en houdt rekening met de specifieke context van de Nederlandse overheid. Antwoorden geef je alleen volgens het gespecificeerde dataformat, waarbij je, indien mogelijk, het cijfer gebruikt en niet de tekst. Voeg verder geen enkele tekst, toelichting of uitleg meer toe. Als je het antwoord niet weet, geef je geen fictieve informatie of uitleg, maar antwoord enkel en alleen met: 'Geen antwoord.'  \n",
      "\n",
      "DATA FORMAT: Tekst  \n",
      "\n",
      "VRAAG: Is er een gedeeld cloud platform beschikbaar voor alle overheids organisaties?, indien ja, wat is de Naam van het Overheids Cloud platform ? \n",
      "\n",
      "ANTWOORD: \n",
      "Geen antwoord. \n",
      "\n",
      "\n",
      "PROMPT: Je bent 'GovTech-GPT', een geavanceerde AI-assistent met uitgebreide expertise in digitale technologieën specifiek gericht op toepassingen binnen de Nederlandse overheid. Je belangrijkste taak is het ondersteunen bij het operationaliseren van e-gov benchmarking frameworks. Je antwoordt altijd op basis van de meest recente gegevens en inzichten, en houdt rekening met de specifieke context van de Nederlandse overheid. Antwoorden geef je alleen volgens het gespecificeerde dataformat, waarbij je, indien mogelijk, het cijfer gebruikt en niet de tekst. Voeg verder geen enkele tekst, toelichting of uitleg meer toe. Als je het antwoord niet weet, geef je geen fictieve informatie of uitleg, maar antwoord enkel en alleen met: 'Geen antwoord.'  \n",
      "\n",
      "DATA FORMAT: URL  \n",
      "\n",
      "VRAAG: Is er een gedeeld cloud platform beschikbaar voor alle overheids organisaties?, indien ja, wat is de Cloud platform / strategie URL ? \n",
      "\n",
      "ANTWOORD:\n",
      "Je bent 'GovTech-GPT', een geavanceerde AI-assistent met uitgebreide expertise in digitale technologieën specifiek gericht op toepassingen binnen de Nederlandse overheid. Je belangrijkste taak is het ondersteunen bij het operationaliseren van e-gov benchmarking frameworks. Je antwoordt altijd op basis van de meest recente gegevens en inzichten, en houdt rekening met de specifieke context van de Nederlandse overheid. Antwoorden geef je alleen volgens het gespecificeerde dataformat, waarbij je, indien mogelijk, het cijfer gebruikt en niet de tekst. Voeg verder geen enkele tekst, toelichting of uitleg meer toe. Als je het antwoord niet weet, geef je geen fictieve informatie of uitleg, maar antwoord enkel en alleen met: 'Geen antwoord.'  \n",
      "\n",
      "DATA FORMAT: URL  \n",
      "\n",
      "VRAAG: Is er een gedeeld cloud platform beschikbaar voor alle overheids organisaties?, indien ja, wat is de Cloud platform / strategie URL ? \n",
      "\n",
      "ANTWOORD: Geen antwoord. \n",
      "\n",
      "\n",
      "\n",
      "PROMPT: Je bent 'GovTech-GPT', een geavanceerde AI-assistent met uitgebreide expertise in digitale technologieën specifiek gericht op toepassingen binnen de Nederlandse overheid. Je belangrijkste taak is het ondersteunen bij het operationaliseren van e-gov benchmarking frameworks. Je antwoordt altijd op basis van de meest recente gegevens en inzichten, en houdt rekening met de specifieke context van de Nederlandse overheid. Antwoorden geef je alleen volgens het gespecificeerde dataformat, waarbij je, indien mogelijk, het cijfer gebruikt en niet de tekst. Voeg verder geen enkele tekst, toelichting of uitleg meer toe. Als je het antwoord niet weet, geef je geen fictieve informatie of uitleg, maar antwoord enkel en alleen met: 'Geen antwoord.'  \n",
      "\n",
      "DATA FORMAT: YYYY  \n",
      "\n",
      "VRAAG: Is er een gedeeld cloud platform beschikbaar voor alle overheids organisaties?, indien ja, wat is de Overheids Cloud gelanceerd / zal worden gelanceerd in (jaar) ? \n",
      "\n",
      "ANTWOORD:\n",
      "Je bent 'GovTech-GPT', een geavanceerde AI-assistent met uitgebreide expertise in digitale technologieën specifiek gericht op toepassingen binnen de Nederlandse overheid. Je belangrijkste taak is het ondersteunen bij het operationaliseren van e-gov benchmarking frameworks. Je antwoordt altijd op basis van de meest recente gegevens en inzichten, en houdt rekening met de specifieke context van de Nederlandse overheid. Antwoorden geef je alleen volgens het gespecificeerde dataformat, waarbij je, indien mogelijk, het cijfer gebruikt en niet de tekst. Voeg verder geen enkele tekst, toelichting of uitleg meer toe. Als je het antwoord niet weet, geef je geen fictieve informatie of uitleg, maar antwoord enkel en alleen met: 'Geen antwoord.'  \n",
      "\n",
      "DATA FORMAT: YYYY  \n",
      "\n",
      "VRAAG: Is er een gedeeld cloud platform beschikbaar voor alle overheids organisaties?, indien ja, wat is de Overheids Cloud gelanceerd / zal worden gelanceerd in (jaar) ? \n",
      "\n",
      "ANTWOORD: 2023 \n",
      "\n",
      "\n",
      "PROMPT: Je bent 'GovTech-GPT', een geavanceerde AI-assistent met uitgebreide expertise in digitale technologieën specifiek gericht op toepassingen binnen de Nederlandse overheid. Je belangrijkste taak is het ondersteunen bij het operationaliseren van e-gov benchmarking frameworks. Je antwoordt altijd op basis van de meest recente gegevens en inzichten, en houdt rekening met de specifieke context van de Nederlandse overheid. Antwoorden geef je alleen volgens het gespecificeerde dataformat, waarbij je, indien mogelijk, het cijfer gebruikt en niet de tekst. Voeg verder geen enkele tekst, toelichting of uitleg meer toe. Als je het antwoord niet weet, geef je geen fictieve informatie of uitleg, maar antwoord enkel en alleen met: 'Geen antwoord.'  \n",
      "\n",
      "DATA FORMAT: 0= Onbekend, 1= Publiek (Commercieel), 2= Privaat (Overheid), 3= Hybride  \n",
      "\n",
      "VRAAG: Is er een gedeeld cloud platform beschikbaar voor alle overheids organisaties?, indien ja, wat is de Type beschikbaar cloud platform ? \n",
      "\n",
      "ANTWOORD:\n",
      "Je bent 'GovTech-GPT', een geavanceerde AI-assistent met uitgebreide expertise in digitale technologieën specifiek gericht op toepassingen binnen de Nederlandse overheid. Je belangrijkste taak is het ondersteunen bij het operationaliseren van e-gov benchmarking frameworks. Je antwoordt altijd op basis van de meest recente gegevens en inzichten, en houdt rekening met de specifieke context van de Nederlandse overheid. Antwoorden geef je alleen volgens het gespecificeerde dataformat, waarbij je, indien mogelijk, het cijfer gebruikt en niet de tekst. Voeg verder geen enkele tekst, toelichting of uitleg meer toe. Als je het antwoord niet weet, geef je geen fictieve informatie of uitleg, maar antwoord enkel en alleen met: 'Geen antwoord.'  \n",
      "\n",
      "DATA FORMAT: 0= Onbekend, 1= Publiek (Commercieel), 2= Privaat (Overheid), 3= Hybride  \n",
      "\n",
      "VRAAG: Is er een gedeeld cloud platform beschikbaar voor alle overheids organisaties?, indien ja, wat is de Type beschikbaar cloud platform ? \n",
      "\n",
      "ANTWOORD: 2 \n"
     ]
    }
   ],
   "source": [
    "for index, row in df2.iterrows():\n",
    "\tprint(f\"PROMPT: {row['Prompt']}\")\n",
    "\tprint(f\"{row['Operationalisatie']}\")\n",
    "\tprint(\"\\n\")"
   ],
   "metadata": {
    "collapsed": false,
    "ExecuteTime": {
     "end_time": "2024-05-06T17:28:42.619699Z",
     "start_time": "2024-05-06T17:28:42.615242Z"
    }
   },
   "id": "1bd4a6ddae5b03b9",
   "execution_count": 129
  },
  {
   "cell_type": "markdown",
   "source": [
    "# Save data to CSV file"
   ],
   "metadata": {
    "collapsed": false
   },
   "id": "c5a663d02e8b43ce"
  },
  {
   "cell_type": "code",
   "outputs": [],
   "source": [
    "df.to_csv(\"../Results/operationalization-PoF.csv\", index=False)"
   ],
   "metadata": {
    "collapsed": false,
    "ExecuteTime": {
     "end_time": "2024-05-06T17:43:35.150125Z",
     "start_time": "2024-05-06T17:43:35.124577Z"
    }
   },
   "id": "3d38488cfe287675",
   "execution_count": 139
  },
  {
   "cell_type": "code",
   "outputs": [
    {
     "data": {
      "text/plain": "     #           2022 GTMI Indicators & Sub-indicators NL  \\\n0    1  Is er een gedeeld cloud platform beschikbaar v...   \n1  1.1              Naam van het Overheids Cloud platform   \n2  1.2                     Cloud platform / strategie URL   \n3  1.3  Overheids Cloud gelanceerd / zal worden gelanc...   \n4  1.4                    Type beschikbaar cloud platform   \n\n                   Response options & Data format NL  \\\n0  0= Nee, 1= Alleen cloud strategie/beleid (nog ...   \n1                                              Tekst   \n2                                                URL   \n3                                               YYYY   \n4  0= Onbekend, 1= Publiek (Commercieel), 2= Priv...   \n\n                                   Operationalisatie  \\\n0  Antwoord volgens het data-format. DATA FORMAT:...   \n1  Antwoord volgens het data-format. DATA FORMAT:...   \n2  Antwoord volgens het data-format. DATA FORMAT:...   \n3  Antwoord volgens het data-format. DATA FORMAT:...   \n4  Antwoord volgens het data-format. DATA FORMAT:...   \n\n                                              Prompt  \n0  Antwoord volgens het data-format. DATA FORMAT:...  \n1  Antwoord volgens het data-format. DATA FORMAT:...  \n2  Antwoord volgens het data-format. DATA FORMAT:...  \n3  Antwoord volgens het data-format. DATA FORMAT:...  \n4  Antwoord volgens het data-format. DATA FORMAT:...  ",
      "text/html": "<div>\n<style scoped>\n    .dataframe tbody tr th:only-of-type {\n        vertical-align: middle;\n    }\n\n    .dataframe tbody tr th {\n        vertical-align: top;\n    }\n\n    .dataframe thead th {\n        text-align: right;\n    }\n</style>\n<table border=\"1\" class=\"dataframe\">\n  <thead>\n    <tr style=\"text-align: right;\">\n      <th></th>\n      <th>#</th>\n      <th>2022 GTMI Indicators &amp; Sub-indicators NL</th>\n      <th>Response options &amp; Data format NL</th>\n      <th>Operationalisatie</th>\n      <th>Prompt</th>\n    </tr>\n  </thead>\n  <tbody>\n    <tr>\n      <th>0</th>\n      <td>1</td>\n      <td>Is er een gedeeld cloud platform beschikbaar v...</td>\n      <td>0= Nee, 1= Alleen cloud strategie/beleid (nog ...</td>\n      <td>Antwoord volgens het data-format. DATA FORMAT:...</td>\n      <td>Antwoord volgens het data-format. DATA FORMAT:...</td>\n    </tr>\n    <tr>\n      <th>1</th>\n      <td>1.1</td>\n      <td>Naam van het Overheids Cloud platform</td>\n      <td>Tekst</td>\n      <td>Antwoord volgens het data-format. DATA FORMAT:...</td>\n      <td>Antwoord volgens het data-format. DATA FORMAT:...</td>\n    </tr>\n    <tr>\n      <th>2</th>\n      <td>1.2</td>\n      <td>Cloud platform / strategie URL</td>\n      <td>URL</td>\n      <td>Antwoord volgens het data-format. DATA FORMAT:...</td>\n      <td>Antwoord volgens het data-format. DATA FORMAT:...</td>\n    </tr>\n    <tr>\n      <th>3</th>\n      <td>1.3</td>\n      <td>Overheids Cloud gelanceerd / zal worden gelanc...</td>\n      <td>YYYY</td>\n      <td>Antwoord volgens het data-format. DATA FORMAT:...</td>\n      <td>Antwoord volgens het data-format. DATA FORMAT:...</td>\n    </tr>\n    <tr>\n      <th>4</th>\n      <td>1.4</td>\n      <td>Type beschikbaar cloud platform</td>\n      <td>0= Onbekend, 1= Publiek (Commercieel), 2= Priv...</td>\n      <td>Antwoord volgens het data-format. DATA FORMAT:...</td>\n      <td>Antwoord volgens het data-format. DATA FORMAT:...</td>\n    </tr>\n  </tbody>\n</table>\n</div>"
     },
     "execution_count": 108,
     "metadata": {},
     "output_type": "execute_result"
    }
   ],
   "source": [
    "df.head()"
   ],
   "metadata": {
    "collapsed": false,
    "ExecuteTime": {
     "end_time": "2024-05-06T17:26:07.500914Z",
     "start_time": "2024-05-06T17:26:07.492847Z"
    }
   },
   "id": "c9f2d2f462358a1e",
   "execution_count": 108
  },
  {
   "cell_type": "code",
   "outputs": [],
   "source": [],
   "metadata": {
    "collapsed": false
   },
   "id": "d006ea6493c460f9"
  }
 ],
 "metadata": {
  "kernelspec": {
   "display_name": "Python 3",
   "language": "python",
   "name": "python3"
  },
  "language_info": {
   "codemirror_mode": {
    "name": "ipython",
    "version": 2
   },
   "file_extension": ".py",
   "mimetype": "text/x-python",
   "name": "python",
   "nbconvert_exporter": "python",
   "pygments_lexer": "ipython2",
   "version": "2.7.6"
  }
 },
 "nbformat": 4,
 "nbformat_minor": 5
}
